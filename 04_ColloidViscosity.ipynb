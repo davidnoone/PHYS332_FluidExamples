{
  "nbformat": 4,
  "nbformat_minor": 0,
  "metadata": {
    "colab": {
      "name": "04_ColloidViscosity.ipynb",
      "provenance": [],
      "include_colab_link": true
    },
    "kernelspec": {
      "name": "python3",
      "display_name": "Python 3"
    }
  },
  "cells": [
    {
      "cell_type": "markdown",
      "metadata": {
        "id": "view-in-github",
        "colab_type": "text"
      },
      "source": [
        "<a href=\"https://colab.research.google.com/github/davidnoone/PHYS332_FluidExamples/blob/main/04_ColloidViscosity.ipynb\" target=\"_parent\"><img src=\"https://colab.research.google.com/assets/colab-badge.svg\" alt=\"Open In Colab\"/></a>"
      ]
    },
    {
      "cell_type": "markdown",
      "metadata": {
        "id": "VIna7GyzlIZZ"
      },
      "source": [
        "# Colloids and no-constant viscosity (1d case)\n",
        "\n",
        "Colloids are a group of materials that include small particles emersen in a fluid (could be liquid or gas). Some examples include emulsions and gels, which emcompass substances like milk, whipped cream, styrofoam, jelly, and some glasses. \n",
        "\n",
        "We imagine a \"pile\" of substance that undergoes a viscous dissipation following a simple law. \n",
        "\n",
        "$$\n",
        "  \\frac{\\partial h}{\\partial t} =  \\frac{\\partial}{\\partial x}\n",
        "     \\left( \\nu \\frac{\\partial h}{\\partial x} \\right)\n",
        "$$\n",
        "\n",
        "where h is the depth of the colloidal material, and $\\nu$ is the kinematic viscosity, at constant density. \n",
        "\n",
        "The viscosity follows a simple law:\n",
        "\n",
        "$$\n",
        "\\nu = \\nu_0 (1 + 2.5 \\phi)\n",
        "$$\n",
        "\n",
        "\n",
        "where $\\phi$ is the volume fraction. In the case that $\\phi = \\phi(h)$ some there are some non-linear consequences on the viscous flow. \n",
        "\n",
        "\n",
        "## Work tasks\n",
        "1. Create a numerical model of viscous flow using finite differences. \n",
        "(Hint: You have basically done this in previous excersizes). \n",
        "2. Compute the height at a futute time under the null case where $\\phi = 0$\n",
        "3. Repeate the experiment for the case that $\\phi$ has positive and negative values of a range of sizes. You may choose to assume $\\phi = \\pm h/h_{max}$, where $h_{max} $ is the maximum value of your initial \"pile\". \n",
        "4. Compare the results of your experiments. \n",
        "\n",
        "\n",
        " "
      ]
    },
    {
      "cell_type": "code",
      "metadata": {
        "id": "Trf4zuPUlFpU"
      },
      "source": [
        "import math\n",
        "import numpy as np\n",
        "import matplotlib.pyplot as plt\n"
      ],
      "execution_count": null,
      "outputs": []
    },
    {
      "cell_type": "markdown",
      "metadata": {
        "id": "AZTwQzSlHV1M"
      },
      "source": [
        "The main component of this problem is developing an equation to calculate vicsous derivative using finite differences. Notice that unlike the previous case in which the viscosity is constant, here we must keep the viscosity within derivative estimates. We wish to evaluate the second grid on a discrete grid between 0 and 2$\\pi$, with steps $\\Delta x$ indicated by index $i = 0, N-1$. (Note python has arrays startning at index 0\n",
        "\n",
        "Using a finite difference method, we can obtain scheme with second order accuracy as:\n",
        "\n",
        "$$\n",
        "\\frac{\\partial}{\\partial x}\n",
        "     \\left( \\nu \\frac{\\partial h}{\\partial x} \\right)=\n",
        "     \\frac{F_{i+1/2} - F_{i-1/2}}{(\\Delta x)}\n",
        "$$\n",
        "\n",
        "where we have used fluxes $F$ at the \"half\" locations defined by \n",
        "$$\n",
        "F_{i-1/2} = \\nu_{i-1/2} (\\frac{h_{i} - h_{i-1})}{\\Delta x}\n",
        "$$\n",
        "\n",
        "and\n",
        "$$\n",
        "F_{i+1/2} = \\nu_{i+1/2} (\\frac{h_{i+1} - h_{i})}{\\Delta x}\n",
        "$$\n",
        "\n",
        "Notice that $\\nu$ needs to be determined at the \"half\" locations, which means that $h$ needs to be estimated at those points. It is easiest to assume it is the average of the values on either side. \n",
        "\n",
        "i.e., $h_{i-1/2} = 0.5(h_i + h_{i-1})$, and similarly for $h_{i+1/2}$. \n",
        "\n",
        "\n",
        "We are working with periodic boundary conditions so we may \"wrap arround\" such that $f_{-1} = f_{N-1}$ and $f_{N} = f_{1}$. You may choose to do this with python array indices, or take a look at the numpy finction [numpy.roll()](https://numpy.org/doc/stable/reference/generated/numpy.roll.html).\n"
      ]
    },
    {
      "cell_type": "code",
      "metadata": {
        "id": "hiQtCbjHFmEI"
      },
      "source": [
        "# Create a coordinate, which is periodix\n",
        "npts = 50 \n",
        "xvals = np.linspace(-math.pi,math.pi,npts)\n",
        "dx = 2*math.pi/npts\n",
        "\n",
        "hmax = 1.0      # maximum height of pile\n",
        "vnu0 = 0.5      # reference viscosity\n",
        "\n",
        "# Define the an initial \"pile\" of substance. Make it an upside down cosine \n",
        "width = 3*dx\n",
        "h = hmax*np.exp(-(xvals/width)**2)\n"
      ],
      "execution_count": null,
      "outputs": []
    },
    {
      "cell_type": "markdown",
      "metadata": {
        "id": "BzvYAUQ9TQtS"
      },
      "source": [
        "Make a plot showing your initial vorticity: vorticity as a function of X"
      ]
    },
    {
      "cell_type": "code",
      "metadata": {
        "id": "gSdpv-BFTOVA"
      },
      "source": [
        "# PLot!\n",
        "fig = plt.figure()\n",
        "plt.plot(xvals,h)"
      ],
      "execution_count": null,
      "outputs": []
    },
    {
      "cell_type": "markdown",
      "metadata": {
        "id": "xsfLMuGGTxUm"
      },
      "source": [
        "We will need a function to compute the second derivative using finite differences. Let's do that here:"
      ]
    },
    {
      "cell_type": "code",
      "metadata": {
        "id": "Lbn9SHHJHVoJ"
      },
      "source": [
        ""
      ],
      "execution_count": null,
      "outputs": []
    },
    {
      "cell_type": "markdown",
      "metadata": {
        "id": "QhVImBKdGqqj"
      },
      "source": [
        "Let's define a function to perform some number of time steps"
      ]
    },
    {
      "cell_type": "code",
      "metadata": {
        "id": "188xzr6SF26p"
      },
      "source": [
        "def viscosity(h):\n",
        "    global hmax\n",
        "#    phi = h/hmax   # Try this?\n",
        "    phi = 0.\n",
        "    vnu = vnu0*(1 + 2.5*phi)\n",
        "    return vnu\n",
        "\n",
        "def forward_step(h_old, nsteps, dtime):\n",
        "    for n in range(nsteps):\n",
        "      hmid = 0 # [your code here]\n",
        "#      vmid = viscosity(hmid) \n",
        "\n",
        "      dfdt = np.zeros_like(h_old)     # change this\n",
        "\n",
        "      h_new = h_old + dtime*dfdt\n",
        "      return h_new\n"
      ],
      "execution_count": null,
      "outputs": []
    },
    {
      "cell_type": "markdown",
      "metadata": {
        "id": "p2lMnP81Gv-D"
      },
      "source": [
        "Use your integration function to march forward in time to check the analytic result. Note, the time step must be small enough for a robust solution. It must be:\n",
        "\n",
        "$$\n",
        "\\Delta t \\lt \\frac{(\\Delta x)^2} {4 \\eta}\n",
        "$$\n",
        "\n"
      ]
    },
    {
      "cell_type": "code",
      "metadata": {
        "id": "PHmHaCspGyRC"
      },
      "source": [
        "dt_max = 0.5*dx*dx/vnu0\n",
        "print(\"maximum allowed dtime is \",dt_max,\"  seconds\")\n",
        "\n",
        "dtime = 0.01\n",
        "nsteps = 10\n",
        "\n",
        "# step forward by some number of steps, then plot again\n",
        "h = forward_step(h.copy(),nsteps,dtime)\n",
        "plt.plot(xvals,h)\n",
        "\n",
        "# step forward more steps, and plot again\n",
        "h = forward_step(h.copy(),nsteps,dtime)\n",
        "plt.plot(xvals,h)\n",
        "\n",
        "h = forward_step(h.copy(),nsteps,dtime)\n",
        "plt.plot(xvals,h)\n"
      ],
      "execution_count": null,
      "outputs": []
    },
    {
      "cell_type": "markdown",
      "metadata": {
        "id": "qrkX2uHLW5Ve"
      },
      "source": [
        "#Results!\n",
        "\n",
        "How did the shapes differe with thinning vs thickening?\n",
        "\n"
      ]
    }
  ]
}