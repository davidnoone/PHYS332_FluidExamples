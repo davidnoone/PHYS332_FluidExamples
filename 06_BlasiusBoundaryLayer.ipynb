{
  "nbformat": 4,
  "nbformat_minor": 0,
  "metadata": {
    "colab": {
      "name": "06_BlasiusBoundaryLayer.ipynb",
      "provenance": [],
      "collapsed_sections": [],
      "authorship_tag": "ABX9TyPeL1zQSlC5qk0xJfMMTUwI",
      "include_colab_link": true
    },
    "kernelspec": {
      "name": "python3",
      "display_name": "Python 3"
    },
    "language_info": {
      "name": "python"
    }
  },
  "cells": [
    {
      "cell_type": "markdown",
      "metadata": {
        "id": "view-in-github",
        "colab_type": "text"
      },
      "source": [
        "<a href=\"https://colab.research.google.com/github/davidnoone/PHYS332_FluidExamples/blob/main/06_BlasiusBoundaryLayer.ipynb\" target=\"_parent\"><img src=\"https://colab.research.google.com/assets/colab-badge.svg\" alt=\"Open In Colab\"/></a>"
      ]
    },
    {
      "cell_type": "markdown",
      "metadata": {
        "id": "CXkGSIGfnUat"
      },
      "source": [
        "##Blasuis boundary layer\n",
        "\n",
        "Cosider steady flow above a plate. Some distance away from the plate the flow has horizontal velocity U. The plate is infinitely long in the y direction, leading to a 2 dimensional problem in the x-z plane. The flow is laminar, but viscous. The equations describing the flow above a plate are:\n",
        "\n",
        "$$\n",
        "  \\frac{\\partial u}{\\partial x} +   \\frac{\\partial w}{\\partial z} = 0\n",
        "$$\n",
        "\n",
        "and \n",
        "$$\n",
        " u\\frac{\\partial u}{\\partial x} + w \\frac{\\partial u}{\\partial z} =\n",
        "   -\\frac{1}{\\rho}\\frac{\\partial p}{\\partial x} + \\nu \\frac{\\partial^2 u}{\\partial z^2} \n",
        "$$\n",
        "\n",
        "For now, let's consider pressure to be uniform (pressure gradient is zero). For steady incompressible flow, a streamfunction is defined such that\n",
        "\n",
        "$$ \n",
        "u = \\frac{\\partial \\psi}{\\partial z}\n",
        "$$\n",
        "\n",
        "$$ \n",
        "w = -\\frac{\\partial \\psi}{\\partial z}\n",
        "$$\n",
        "\n",
        "\n",
        "This immediatly satisfies the continuity equation and the momentum equation can be rewitten\n",
        "\n",
        "$$\n",
        "\\frac{\\partial \\psi}{\\partial z}\n",
        "  \\frac{\\partial^2 \\psi}{\\partial x \\partial z} - \n",
        "\\frac{\\partial \\psi}{\\partial x}\n",
        "  \\frac{\\partial^2 \\psi}{\\partial z^2} =\n",
        "\\nu    \\frac{\\partial^3 \\psi}{\\partial z^3}\n",
        "$$\n",
        "\n",
        "This system can be solved given appropriate boundary conditions.\n"
      ]
    },
    {
      "cell_type": "markdown",
      "metadata": {
        "id": "4-bXvPqEvzMG"
      },
      "source": [
        "# Non-dimensional solution \n",
        "\n",
        "The form of the eauations suggest a non-dimensional vertical distance:\n",
        "\n",
        "$$\n",
        "\\eta = \\sqrt{ \\frac{U}{\\nu x}} z\n",
        "$$\n",
        "\n",
        "The streamfunction is written in a non-dimensional form as:\n",
        "\n",
        "$$\n",
        "  \\psi(x,z) = \\sqrt{2U \\nu x} f(\\eta)\n",
        "$$\n",
        "\n",
        "where f = f(\\eta) is the non-dimensional streamfunction. With this definition, the Blasius problem can be reduced to a non-dimensional equation for streamfunction:\n",
        "\n",
        "$$ \n",
        "f'''(\\eta) + f(\\eta)f''(\\eta) = 0\n",
        "$$\n",
        "\n",
        "This third order equation needs three boundary conditions:\n",
        "$$\n",
        "f(0) = 0\n",
        "$$\n",
        "\n",
        "$$\n",
        "f'(0) = 0\n",
        "$$\n",
        "$$\n",
        "f'(\\inf) = 1\n",
        "$$\n",
        "\n",
        "The quantity $\\eta$ is refered to as a similarity parameter. Notice that it involves both x and z, and suggests the solution at all points x are \"similar\" for a particular depth z. Therefore it allos us to transform the 2d problem $\\psi(x,z)$ into a 1d problem $f(\\eta)$.\n",
        "\n",
        "### Solution method\n",
        "Solving nonlinear ODEs in general requires numerical methods. Here it is convinenient to make a \"geuss\" and check if the solutions meet the boundary conditions, and if not, guess again. The sequence of guessing can be done via bisection for a solution starting with a guess which is clearly high and a guess which is clearly low. Several iterations allow the algorithm to hone in on the solution to within a specific tolerance (could be numerical precision.\n",
        "\n"
      ]
    },
    {
      "cell_type": "markdown",
      "metadata": {
        "id": "avnz1WmK1N1V"
      },
      "source": [
        "## Recovering results\n",
        "\n",
        "The dimensional quantities can be recovered noting that\n",
        "\n",
        "$$\n",
        "u(x,z) = \\frac{\\partial \\psi}{\\partial z} = U f'\n",
        "$$\n",
        "\n",
        "\n",
        "$$\n",
        "w(x,z) = -\\frac{\\partial \\psi}{\\partial z} = \\frac{1}{2}U (\\eta f' - f)/\\sqrt{Re}\n",
        "$$\n",
        "\n",
        "Where $Re$ is the Reynolds number \n",
        "\n",
        "$$ \n",
        "Re = \\frac{UL}{\\nu}\n",
        "$$\n",
        "\n",
        "and we set L the (vertical) length scale.\n",
        "\n",
        "## Boundary layer depth\n",
        "\n",
        "We define the depth of the boundary layer to be the height corresponding to where $u = 0.99 U$. This is a practical definition. This is the case when $\\eta = 4.9$. \n",
        "\n",
        "$$\n",
        "\\delta(x) = \\frac{4.9 x}{\\sqrt{Re}}\n",
        "$$\n",
        "\n",
        "## Surface stress\n",
        "The surface stress, a meansure of total frictonal drag, is expressed in the normal way as proportional to the shear:\n",
        "\n",
        "$$ \n",
        "\\tau_s = \\mu \\left(\\frac{\\partial u}{\\partial z}\\right)_{z=0}\n",
        "$$\n",
        "\n",
        "So from the definitions above:\n",
        "$$ \n",
        "\\tau_s = \\mu Uf'' \\sqrt{\\frac{U}{\\nu z}}\n",
        "$$"
      ]
    },
    {
      "cell_type": "code",
      "metadata": {
        "id": "aC7n9vvHrV2B"
      },
      "source": [
        "import numpy as np\n",
        "import matplotlib.pyplot as plt"
      ],
      "execution_count": null,
      "outputs": []
    },
    {
      "cell_type": "code",
      "metadata": {
        "id": "dbAs5j1GnkCj"
      },
      "source": [
        "#  Intégration de l'équation de Blasius (Vincent Legat, Avril 2020)\n",
        "\n",
        "# Define the Blasius equation f''' + f f'' = 0\n",
        "#\n",
        "#           dudt(t) = v(t)\n",
        "#           dvdt(t) = w(t)\n",
        "#           dwdt(t) = -u(t)*w(t) \n",
        "#\n",
        "def f(u):\n",
        "  dudt =   u[1]\n",
        "  dvdt =   u[2] \n",
        "  dwdt = - u[0] * u[2]  \n",
        "  return np.array([dudt,dvdt,dwdt])\n",
        " \n",
        "# 4th order Runge-Kutta step\n",
        "def rungekutta(a,h):\n",
        "  imax = int(5/h)\n",
        "  U = np.zeros((imax+1,3))\n",
        "  U[0,:] = np.array([0,0,a])\n",
        "  \n",
        "  for i in range(imax):  \n",
        "    K1 = f(U[i,:]       )\n",
        "    K2 = f(U[i,:]+K1*h/2)\n",
        "    K3 = f(U[i,:]+K2*h/2)\n",
        "    K4 = f(U[i,:]+K3*h  )\n",
        "    U[i+1,:] = U[i,:] + h*(K1+2*K2+2*K3+K4)/6     \n",
        "  return U\n",
        " \n",
        "# Solve ODE by bisection method (\"shooting method\")\n",
        "def shoot(a,h):\n",
        "  U = rungekutta(a,h)\n",
        "  return (1.0-U[-1,1])\n",
        "  \n",
        "def blasius(h,tol):\n",
        "  nmax = 40\n",
        "  a = 0\n",
        "  b = 1\n",
        "  fa = shoot(a,h)\n",
        "  fb = shoot(b,h)\n",
        "  delta = (b-a)/2\n",
        "  n = 0\n",
        "  if (fa*fb > 0) :\n",
        "    raise RuntimeError('Bad initial interval') \n",
        "  while (abs(delta) >= tol and n <= nmax):\n",
        "    n = n + 1\n",
        "    delta = (b-a)/2\n",
        "    x = a + delta\n",
        "    fx = shoot(x,h)\n",
        "    print(\" x = %14.7e (Estimated error %13.7e at iteration %d)\" % (x,abs(delta),n))\n",
        "    if (fx*fa > 0) :\n",
        "      a = x\n",
        "      fa = fx\n",
        "    else :\n",
        "      b = x\n",
        "      fb = fx\n",
        "  if (n > nmax) :\n",
        "    raise RuntimeError('Too many iterations') \n",
        "  print('Blasius:',x)\n",
        "  return x\n",
        " \n"
      ],
      "execution_count": null,
      "outputs": []
    },
    {
      "cell_type": "code",
      "metadata": {
        "id": "_gVpk-YEnktT"
      },
      "source": [
        "tol = 1e-7\n",
        "h   = 0.1\n",
        "\n",
        "Xmax = 5\n",
        "imax = int(Xmax/h)\n",
        "\n",
        "# Set up the 1d coordinate, which is \"eta\"\n",
        "X = np.arange(imax+1)*h\n",
        "\n",
        "# Solve the Differential equation\n",
        "a = blasius(h,tol)\n",
        "\n",
        "# integrate vertically to construct the f, f' and f'' profile\n",
        "U = rungekutta(a,h)\n",
        "\n",
        "print(\" ============ Final value for f''(0) = %.4f \" % U[0,2])\n",
        " \n",
        "fig = plt.figure()\n",
        "plt.plot(U[:,1]*X - U[:,0],X,'-b')\n",
        "plt.plot(U[:,1]           ,X,'-r')\n",
        " \n",
        "plt.text(0.80, 1.5,r'$\\frac{u}{U}$',color='red',fontsize=18)\n",
        "plt.text(0.20, 1.5,r\"$\\frac{w}{U \\delta'}$\",color='blue',fontsize=18)\n",
        "plt.text(0.05, 4.9,r'$\\eta$',color='black',fontsize=15)\n",
        "\n",
        "plt.title('Blasius solution')\n",
        "plt.xlabel('$f(\\eta)$')\n",
        "plt.ylabel('$\\eta$')\n",
        "\n",
        "#plt.savefig('blasius.png')\n",
        "print(\"Finished\")"
      ],
      "execution_count": null,
      "outputs": []
    },
    {
      "cell_type": "code",
      "metadata": {
        "id": "knp0-oQMncts"
      },
      "source": [
        "# Plotting\n",
        "\n",
        "\n"
      ],
      "execution_count": null,
      "outputs": []
    }
  ]
}