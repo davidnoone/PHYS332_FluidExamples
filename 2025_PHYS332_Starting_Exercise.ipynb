{
  "nbformat": 4,
  "nbformat_minor": 0,
  "metadata": {
    "colab": {
      "provenance": [],
      "include_colab_link": true
    },
    "kernelspec": {
      "name": "python3",
      "display_name": "Python 3"
    }
  },
  "cells": [
    {
      "cell_type": "markdown",
      "metadata": {
        "id": "view-in-github",
        "colab_type": "text"
      },
      "source": [
        "<a href=\"https://colab.research.google.com/github/davidnoone/PHYS332_FluidExamples/blob/main/2025_PHYS332_Starting_Exercise.ipynb\" target=\"_parent\"><img src=\"https://colab.research.google.com/assets/colab-badge.svg\" alt=\"Open In Colab\"/></a>"
      ]
    },
    {
      "cell_type": "markdown",
      "metadata": {
        "id": "RRh5N9qhseVB"
      },
      "source": [
        "# Welcome to Python and CoLabs\n",
        "\n",
        "*2025 version*\n",
        "\n",
        "*Created by Prof. David Noone, with updates from Geoff Willmott*\n",
        "\n",
        "This notebook is intended to be a super quick starter to help get going with the more complete (and useful) examples.\n",
        "\n",
        "Files are available via Github, and can be run on Colab hosted by Google.\n",
        "\n",
        "\n"
      ]
    },
    {
      "cell_type": "markdown",
      "metadata": {
        "id": "JsjIJevRtEIK"
      },
      "source": [
        "Python is most useful with various libraries. For spatial data \"numpy\" is essential. It is almost always imported at the beginning. Similarly, we're inevitably going to want to make some plots: let's use matplot lib."
      ]
    },
    {
      "cell_type": "code",
      "metadata": {
        "id": "7tkyDcWlsdFc"
      },
      "source": [
        "import math\n",
        "import numpy as np\n",
        "import matplotlib.pyplot as plt"
      ],
      "execution_count": null,
      "outputs": []
    },
    {
      "cell_type": "markdown",
      "metadata": {
        "id": "FTVSNkkruHY1"
      },
      "source": [
        "Push the \"play\" button above to make that cell run.\n",
        "\n",
        "Now let's assign some data to a new array and make a really simple plot.\n",
        "Make an \"x\" axis between 0 and 2 pi.\n",
        "Print values to the screen, so we can check we did it right!"
      ]
    },
    {
      "cell_type": "code",
      "metadata": {
        "id": "4R0O8NBCuQOM"
      },
      "source": [
        "npts = 20\n",
        "xvals = np.linspace(0,2*math.pi,npts)\n",
        "print(xvals)"
      ],
      "execution_count": null,
      "outputs": []
    },
    {
      "cell_type": "markdown",
      "metadata": {
        "id": "IVDmp2T3vD4v"
      },
      "source": [
        "Let's evaluate a function: y = A sin(n x)"
      ]
    },
    {
      "cell_type": "code",
      "metadata": {
        "id": "12zX5ntGu1b3"
      },
      "source": [
        "amplitude = 1\n",
        "wavenumber = 2\n",
        "yvals = amplitude*np.sin(wavenumber*xvals)\n",
        "\n",
        "print(\"my Y values are: \",yvals)"
      ],
      "execution_count": null,
      "outputs": []
    },
    {
      "cell_type": "markdown",
      "metadata": {
        "id": "IO5_AwD7vPOn"
      },
      "source": [
        "And now, we're all set to make a graph"
      ]
    },
    {
      "cell_type": "code",
      "metadata": {
        "id": "qDbb0_RhvOpE"
      },
      "source": [
        "p = plt.plot(xvals, yvals)"
      ],
      "execution_count": null,
      "outputs": []
    },
    {
      "cell_type": "markdown",
      "metadata": {
        "id": "S_8G4ZVfvr4J"
      },
      "source": [
        "At this stage, we have a pretty good starting place. It does not have labels!\n",
        "\n",
        "Try the following:\n",
        "  * Add an x axis label\n",
        "  * Add an y axis label\n",
        "  * Give it a title\n",
        "\n",
        "The [pyplot manual is here](https://matplotlib.org/stable/tutorials/introductory/pyplot.html), and is a handy resource.\n"
      ]
    },
    {
      "cell_type": "code",
      "metadata": {
        "id": "D0VGS9WQwBAq"
      },
      "source": [
        "# Add your code for x label, y label and a title.\n",
        "#\n",
        "p = plt.plot(xvals, yvals)\n",
        "plt.suptitle('y = A sin nx')\n",
        "plt.xlabel('x')\n",
        "plt.ylabel('y')"
      ],
      "execution_count": null,
      "outputs": []
    },
    {
      "cell_type": "markdown",
      "metadata": {
        "id": "_tea6Q8xwEKG"
      },
      "source": [
        "And finally let's manipulate the figure.\n",
        "\n",
        "Try:\n",
        "  * Making it smoother by changing the number of points\n",
        "  * Add a second line with different amplitude\n",
        "  * Add a third line with a different wave number\n",
        "  * Add a legend to your plot."
      ]
    },
    {
      "cell_type": "code",
      "metadata": {
        "id": "mLe87CkzwTQV"
      },
      "source": [
        "# Add you code to change \"smoothness\", additional curves, and a legend.\n",
        "#"
      ],
      "execution_count": null,
      "outputs": []
    },
    {
      "cell_type": "markdown",
      "metadata": {
        "id": "Qnib-7cJwbVM"
      },
      "source": [
        "Finally, this plot is not bad, but could be fancier. Explore other options from matplot lib to change the colors, linestyle etc."
      ]
    },
    {
      "cell_type": "code",
      "metadata": {
        "id": "ooyADaLpw5UQ"
      },
      "source": [
        "# Add your aesthetically fancy code here\n",
        "#"
      ],
      "execution_count": null,
      "outputs": []
    },
    {
      "cell_type": "markdown",
      "metadata": {
        "id": "YpJ1kpEYxM56"
      },
      "source": [
        "# Outcome\n",
        "Having completed this exercise, you should be able to handle some simple arrays and create a graph. Also, you've successfully worked with notebooks.\n",
        "\n",
        "To confirm your participation, upload your finished plot as part of a file submission on the Assignments page in Canvas.\n"
      ]
    }
  ]
}