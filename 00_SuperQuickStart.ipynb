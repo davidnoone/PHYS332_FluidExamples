{
  "nbformat": 4,
  "nbformat_minor": 0,
  "metadata": {
    "colab": {
      "name": "00_SuperQuickStart.ipynb",
      "provenance": [],
      "authorship_tag": "ABX9TyOd9FgJ9iWT7v0L6owZlGUs",
      "include_colab_link": true
    },
    "kernelspec": {
      "name": "python3",
      "display_name": "Python 3"
    }
  },
  "cells": [
    {
      "cell_type": "markdown",
      "metadata": {
        "id": "view-in-github",
        "colab_type": "text"
      },
      "source": [
        "<a href=\"https://colab.research.google.com/github/davidnoone/PHYS332_FluidExamples/blob/main/00_SuperQuickStart.ipynb\" target=\"_parent\"><img src=\"https://colab.research.google.com/assets/colab-badge.svg\" alt=\"Open In Colab\"/></a>"
      ]
    },
    {
      "cell_type": "markdown",
      "metadata": {
        "id": "RRh5N9qhseVB"
      },
      "source": [
        "# Welcome to Python and CoLabs\r\n",
        "*David Noone (david.noone@auckland.ac.nz)*\r\n",
        "\r\n",
        "This notebook is intended to be asuper quick starter to help get going with the more complete (and useful examples).\r\n",
        "\r\n",
        "Files are available via github, and can be run on colab hosted by google.\r\n",
        "\r\n",
        "\r\n"
      ]
    },
    {
      "cell_type": "markdown",
      "metadata": {
        "id": "JsjIJevRtEIK"
      },
      "source": [
        "Python is most useful with various libraries. For spatial data \"numpy\" is essential. It is almost always imported at the beginning. Similarly, we're inevitably going to want to make some plots: let's use matplot lib."
      ]
    },
    {
      "cell_type": "code",
      "metadata": {
        "id": "7tkyDcWlsdFc"
      },
      "source": [
        "import math\r\n",
        "import numpy as np\r\n",
        "import matplotlib.pyplot as plt"
      ],
      "execution_count": 4,
      "outputs": []
    },
    {
      "cell_type": "markdown",
      "metadata": {
        "id": "FTVSNkkruHY1"
      },
      "source": [
        "Push the \"play\" button above to make that cell run.\r\n",
        "\r\n",
        "Now let's assign some data to a new array and make the super simplest plot one can imagine.\r\n",
        "Make an \"x\" axis between 0 and 2 pi.\r\n",
        "print values to the screen, so we can check we did it right!"
      ]
    },
    {
      "cell_type": "code",
      "metadata": {
        "id": "4R0O8NBCuQOM"
      },
      "source": [
        "npts = 20 \r\n",
        "xvals = np.linspace(0,2*math.pi,npts)\r\n",
        "print(xvals)"
      ],
      "execution_count": null,
      "outputs": []
    },
    {
      "cell_type": "markdown",
      "metadata": {
        "id": "IVDmp2T3vD4v"
      },
      "source": [
        "Lets evaluate a function: y = A sin(n x)"
      ]
    },
    {
      "cell_type": "code",
      "metadata": {
        "id": "12zX5ntGu1b3"
      },
      "source": [
        "amplitude = 1\r\n",
        "wavenumber = 2\r\n",
        "yvals = amplitude*np.sin(wavenumber*xvals)"
      ],
      "execution_count": 6,
      "outputs": []
    },
    {
      "cell_type": "markdown",
      "metadata": {
        "id": "IO5_AwD7vPOn"
      },
      "source": [
        "And now, we're all set t make a graph"
      ]
    },
    {
      "cell_type": "code",
      "metadata": {
        "id": "qDbb0_RhvOpE"
      },
      "source": [
        "p = plt.plot(xvals, yvals)"
      ],
      "execution_count": null,
      "outputs": []
    },
    {
      "cell_type": "markdown",
      "metadata": {
        "id": "S_8G4ZVfvr4J"
      },
      "source": [
        "At tis stage, we have a pretty good starting place. It does not have labels!\r\n",
        "\r\n",
        "Try the folloing: \r\n",
        "  * Add an x axis label\r\n",
        "  * Add an y axis label\r\n",
        "  * Give it a title \r\n"
      ]
    },
    {
      "cell_type": "code",
      "metadata": {
        "id": "D0VGS9WQwBAq"
      },
      "source": [
        "# Add your code for x label, y label and a title.\r\n",
        "#\r\n",
        "\r\n"
      ],
      "execution_count": null,
      "outputs": []
    },
    {
      "cell_type": "markdown",
      "metadata": {
        "id": "_tea6Q8xwEKG"
      },
      "source": [
        "And finally let's manipulate the figure.\r\n",
        "\r\n",
        "Try:\r\n",
        "  * Making it smoother by changing the number of points\r\n",
        "  * Add a second line with different amplitude\r\n",
        "  * Add a third line with a different wave number\r\n",
        "  * Add a legend to your plot."
      ]
    },
    {
      "cell_type": "code",
      "metadata": {
        "id": "mLe87CkzwTQV"
      },
      "source": [
        "# Add you code to change \"smoothness\", additional curves, and a legend.\r\n",
        "#"
      ],
      "execution_count": null,
      "outputs": []
    },
    {
      "cell_type": "markdown",
      "metadata": {
        "id": "Qnib-7cJwbVM"
      },
      "source": [
        "Finally, this plot is not bad, but could be fancier. Explore other options from matplot lib to change the colors, linestyle etc. \r\n",
        "\r\n",
        "The [pyplot manual](https://matplotlib.org/stable/tutorials/introductory/pyplot.html) is here, and is a handy resource."
      ]
    },
    {
      "cell_type": "code",
      "metadata": {
        "id": "ooyADaLpw5UQ"
      },
      "source": [
        "# Add your aesthetically fancy code here\r\n",
        "#"
      ],
      "execution_count": null,
      "outputs": []
    },
    {
      "cell_type": "markdown",
      "metadata": {
        "id": "YpJ1kpEYxM56"
      },
      "source": [
        "# Outcome\r\n",
        "Having completed this quite primer, you should be able to handle some simple arrays and create a graph. Also, you've successfully worked with notebooks.\r\n",
        "\r\n"
      ]
    }
  ]
}