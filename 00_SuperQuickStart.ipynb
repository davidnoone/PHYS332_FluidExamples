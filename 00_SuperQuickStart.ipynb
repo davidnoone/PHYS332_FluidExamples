{
  "nbformat": 4,
  "nbformat_minor": 0,
  "metadata": {
    "colab": {
      "name": "Untitled0.ipynb",
      "provenance": [],
      "authorship_tag": "ABX9TyP6v42bSrEWSB0eUdfZxeNj",
      "include_colab_link": true
    },
    "kernelspec": {
      "name": "python3",
      "display_name": "Python 3"
    }
  },
  "cells": [
    {
      "cell_type": "markdown",
      "metadata": {
        "id": "view-in-github",
        "colab_type": "text"
      },
      "source": [
        "<a href=\"https://colab.research.google.com/github/davidnoone/PHYS332_FluidExamples/blob/main/00_SuperQuickStart.ipynb\" target=\"_parent\"><img src=\"https://colab.research.google.com/assets/colab-badge.svg\" alt=\"Open In Colab\"/></a>"
      ]
    },
    {
      "cell_type": "markdown",
      "metadata": {
        "id": "RRh5N9qhseVB"
      },
      "source": [
        "# Welcome\r\n",
        "*David Noone (david.noone@auckland.ac.nz)*\r\n",
        "\r\n",
        "This notebook is intended to be asuper quick starter to help get going with the more complete (and useful examples).\r\n",
        "\r\n",
        "\r\n"
      ]
    },
    {
      "cell_type": "markdown",
      "metadata": {
        "id": "JsjIJevRtEIK"
      },
      "source": [
        "Python is most useful with various libraries. For spatial data \"numpy\" is essential. It is almost always imported at the beginning. Similarly, we're inevitably going to want to make some plots: let's use matplot lib."
      ]
    },
    {
      "cell_type": "code",
      "metadata": {
        "id": "7tkyDcWlsdFc"
      },
      "source": [
        "import numpy as np\r\n",
        "import matplotlib.pyplot as plt"
      ],
      "execution_count": null,
      "outputs": []
    }
  ]
}