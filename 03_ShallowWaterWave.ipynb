{
  "nbformat": 4,
  "nbformat_minor": 0,
  "metadata": {
    "colab": {
      "name": "03_ShallowWaterWave.ipynb",
      "provenance": [],
      "collapsed_sections": [],
      "include_colab_link": true
    },
    "kernelspec": {
      "name": "python3",
      "display_name": "Python 3"
    }
  },
  "cells": [
    {
      "cell_type": "markdown",
      "metadata": {
        "id": "view-in-github",
        "colab_type": "text"
      },
      "source": [
        "<a href=\"https://colab.research.google.com/github/davidnoone/PHYS332_FluidExamples/blob/main/03_ShallowWaterWave.ipynb\" target=\"_parent\"><img src=\"https://colab.research.google.com/assets/colab-badge.svg\" alt=\"Open In Colab\"/></a>"
      ]
    },
    {
      "cell_type": "markdown",
      "metadata": {
        "id": "Wi6WP_xKdgRn"
      },
      "source": [
        "# Shallow water equation in 1d\n",
        "Consider the a shallow water body with the surface as $z = H + \\eta$, where $H$ is the (constant) mean depth relative to a reference height at z=0. We may altunatievly write surface pertubation in terms of the depth of the water column as $\\eta = h + \\eta_b$, where the bottom topogarph is known.\n",
        "\n",
        "Mass continuity in 1d requires:\n",
        "\n",
        "$$\n",
        "\\frac{\\partial h}{\\partial t} + \\frac{\\partial (hu)}{\\partial x}  = 0 \n",
        "                                                                \\tag{1}\n",
        "$$\n",
        "\n",
        "Where u is the depth integrated (mean) velocity, and it is goverened by the (vertically integrated) momentum equation. \n",
        "\n",
        "$$\n",
        "\\frac{\\partial u}{\\partial t} = -u\\frac{\\partial u}{\\partial x}\n",
        "   -g \\frac{\\partial h}{\\partial x} \n",
        "                                                                \\tag{2}\n",
        "$$\n",
        "\n",
        "These non linear equations describe the shallow water system, which supports a wide range to different behviours. \n",
        "\n"
      ]
    },
    {
      "cell_type": "markdown",
      "metadata": {
        "id": "oLbnFiwHSFKi"
      },
      "source": [
        "\n",
        "## Linearized case\n",
        "\n",
        "We write the quantities h and u as a mean and deviation from the mean. $h = H + h'$ and $u' = u$, where we assume the mean velocity $U=0$. Substituting into equation 1 and 2, \n",
        "\n",
        "$$\n",
        "\\frac{\\partial h'}{\\partial t} + H \\frac{\\partial u}{\\partial x}  = 0 \n",
        "                                                                \\tag{3}\n",
        "$$\n",
        "and\n",
        "$$\n",
        "\\frac{\\partial u}{\\partial t} +  g \\frac{\\partial h'}{\\partial x} = 0\n",
        "                                                                 \\tag{4}\n",
        "$$\n",
        "\n",
        "Here, we have used the definitions that $\\eta' = h' + \\eta_b$ and noting that we assume $h' << H$ such that $h' + H \\approx H$. We can make some immediate simplifications. Further with the fluid velocity u' defined as being small, then terms involving products such as $u'u'$ can be neglected (i.e., linearlized) .\n",
        "\n",
        "Taking $\\partial/\\partial t$ of (3) and $\\partial/\\partial x$ (4) reaveals a common cross term ($\\partial^2 u/\\partial x\\partial t$) which may be elliminated to combine the two first order equation into a single second order equation:\n",
        "\n",
        "$$\n",
        "\\frac{\\partial^2 h'}{\\partial t^2} \n",
        "        + c^2 \\frac{\\partial^2 h'    }{\\partial x^2} = 0\n",
        "                                                      \\tag{5}\n",
        "$$\n",
        "\n",
        "where $c^2 = gH$. Equation (5) takes the form of a wave equation with a wave phase speed given by c. For this linearized case, the phase speed depends only on the mean water depth, H. \n"
      ]
    },
    {
      "cell_type": "markdown",
      "metadata": {
        "id": "mtPXmgCeSJbJ"
      },
      "source": [
        "##A numerical solution\n",
        "\n",
        "We may immediately write down a finite difference analog for equation (5). \n",
        "\n",
        "$$\n",
        "\\frac{h_i^{n-1} - 2h_i^{n} + h_i^{n+1}}{(2\\Delta t)^2} = \n",
        "    c^2 \\frac{h_{i-1}^{n} - 2 h_{i}^{n} + h_{i+1}^{n}}{(2\\Delta x)^2}\n",
        "$$\n",
        "\n",
        "Where the prime has been dropped for clarity. Writing the \"Courant number\" as \n",
        "$$\n",
        "r = c \\frac{\\Delta t}{\\Delta x} \n",
        "$$\n",
        "\n",
        "we may rearrange to give a prediction equation (i.e., terms  at the future time n+1 on the left, and terms involving the past on the right)\n",
        "$$\n",
        "   h_i^{n+1} = (2 h_i^{n} - h_i^{n-1}) +\n",
        "     r^2 (h_{i-1}^{n} - 2 hi_{i}^{n} + h_{i+1}^{n})\n",
        "$$\n",
        "\n",
        "The first term on the right can be viewed as a first order extrapolation to time $n+1$, with the remainder like a correction that provides an update based on the gradient at the centered time $n$. Some algebra let's us write a final form:\n",
        "\n",
        "$$\n",
        "   h_i^{n+1} = 2(1-r^2) h_i^{n} - h_i^{n-1} \n",
        "               + r^2 (h_{i-1}^{n} + h_{i+1}^{n})\n",
        "                                                  \\tag{8}\n",
        "$$\n",
        "\n",
        "\n",
        "This system is stable for $r < 1$.\n",
        "\n",
        "This can be integrated by selecting a computational grid with spacing $\\Delta x$ and marching forward in time by small increments given by the time step $\\Delta t$. Integration is continued until the needed forecast is produced. "
      ]
    },
    {
      "cell_type": "code",
      "metadata": {
        "id": "jh9gXz99PLHQ"
      },
      "source": [
        ""
      ],
      "execution_count": null,
      "outputs": []
    },
    {
      "cell_type": "code",
      "metadata": {
        "id": "aKRGpvNqdffS"
      },
      "source": [
        "from matplotlib import rc\n",
        "import numpy as np\n",
        "import matplotlib\n",
        "import matplotlib.pyplot as plt\n",
        "from matplotlib import animation\n",
        "rc('animation', html='jshtml')\n",
        "\n",
        "print(\"Imported all the modules\")"
      ],
      "execution_count": null,
      "outputs": []
    },
    {
      "cell_type": "code",
      "metadata": {
        "id": "L4totGO6dnwi"
      },
      "source": [
        "# Model runtime settings -----------\n",
        "\n",
        "tmax  = 4                           # Run duation [seconds]  [*** CHANGE HOW LONG TO RUN ***]\n",
        "\n",
        "# Space domain\n",
        "xmax =  1.0                         # Spatial domain maximum [meters]       [***]\n",
        "xmin = -xmax                        # Symmetric for minimum\n",
        "\n",
        "hbar    = 1.0                       # Set reference depth \"H\" [metres]      [***]\n",
        "gravity = 1.0                       # Define gravity (g=9.81 m/s2 on earth) [***]\n",
        "\n",
        "# End of runtime settings -----------\n",
        "\n",
        "csq    = hbar*gravity               # phase speed csq = g*H for shallow water [m/s2]\n",
        "cno_setting = 0.5                   # This must be < 1. Use 0.5 for safety!\n",
        "\n",
        "nx   = 101                          # number of points\n",
        "dx = (xmax - xmin)/(nx-1)           # using nx-1 means the ends are included\n",
        "\n",
        "xpts = np.linspace(xmin,xmax,nx)    # Values of x \n",
        "\n",
        "\n",
        "dtmax = cno_setting*dx/np.sqrt(csq) # Calcuated for you, to ensure stability.\n",
        "\n",
        "\n",
        "# Figure out the number of steps. Less than mass, and integer number of plotting frames\n",
        "nskip = 5                         # number of frames between plotted output\n",
        "nsteps = int(tmax/dtmax) \n",
        "if (nsteps%nskip > 0):\n",
        "  nextra = nskip - nsteps%nskip     \n",
        "  nsteps = nsteps + nextra\n",
        "\n",
        "dtime = tmax/nsteps\n",
        "time = dtime*np.arange(nsteps+1)\n",
        "\n",
        "print('Wave speed c=',np.sqrt(csq),'m/sec')\n",
        "print('nx=',nx,'dx',dx,'m   dtime = ',dtime, 'sec  (dtmax=',dtmax,')')\n",
        "print('Model will run nsteps=',nsteps,' (check tmax=',nsteps*dtime,tmax,')')\n",
        "\n",
        "\n",
        "rsq = (dtime/dx)**2\n",
        "rcsq = rsq*csq\n",
        "twomr2 = 2*(1-rcsq)\n",
        "\n",
        "# Set up indices for the \"i+1\" and \"i-1\". Handy later on.\n",
        "i = np.arange(nx,dtype='int')\n",
        "ip = i+1\n",
        "im = i-1\n",
        "\n",
        "# Set reflective boundary conditions\n",
        "ip[nx-1] = nx-2\n",
        "im[   0] = 1\n",
        "\n",
        "# This version for periodic boundary conditions\n",
        "#ip[nx-1] = 0\n",
        "#im[   0] = nx-1\n",
        "\n",
        "# Create the main state array\n",
        "h = np.zeros((nsteps+1,nx))\n",
        "\n",
        "# Initial conditions - set as a Gaussian \"mountain\" of water\n",
        "print(\"initial conditions\")\n",
        "x0 = 0.0              # x location of mountain\n",
        "xw = 5*dx             # width in units of \"x\"\n",
        "h[0,:] = np.exp( -((xpts-x0)**2)/(xw*xw))   # Initial conditions, \"gaussian mountain\"\n",
        "h[1,:] = h[0,:]             # First step is explicit forward.\n",
        "\n",
        "# Do the forecast! Integrate equation (8) over little steps \"dt\"\n",
        "print(\"Integrating: nsteps=\",nsteps)\n",
        "for n in range(1,nsteps):\n",
        "    h[n+1,i] = twomr2*h[n,i] - h[n-1,i] + rcsq*(h[n,im] + h[n,ip]) \n",
        "\n",
        "\n",
        "print('Integration complete')"
      ],
      "execution_count": null,
      "outputs": []
    },
    {
      "cell_type": "code",
      "metadata": {
        "id": "MmIHxfq9loSc"
      },
      "source": [
        "# Plot first few frames. Is it working?\n",
        "nframes = 3                 # how many lines to draw? (also look at \"nskip\")\n",
        "for m in range(nframes):\n",
        "  plt.plot(xpts,h[m*nskip,:],label='{:12.2f}'.format(time[m*nskip]))\n",
        "\n",
        "plt.legend()\n"
      ],
      "execution_count": null,
      "outputs": []
    },
    {
      "cell_type": "markdown",
      "metadata": {
        "id": "Bd36dsvN2K8y"
      },
      "source": [
        "## Visualizing the result\n",
        "\n",
        "You should see your initial \"mountain\" of water, that spreads outwards like ripples on a pond. The wave travels both directions (like ripples in a pond).\n",
        "\n",
        "\n",
        "### More output?\n",
        "The output has been stored in a single array, h, with dimensions (nsteps, nx) . We can work over the array to generate plots for each time to make an animation. If you have many steps, then this may become slow. The code is set up to \"skip\" some number of output times to speed it up (see nskip above)."
      ]
    },
    {
      "cell_type": "code",
      "metadata": {
        "id": "q9mg5t79LRUy"
      },
      "source": [
        "# Create an animation object by lopping over frame by frame\n",
        "def plot_animation():\n",
        "\n",
        "    # initialization function: plot the background of each frame\n",
        "    def init_frame():\n",
        "        line.set_data([], [])\n",
        "        return line,\n",
        "\n",
        "    # animation function.  This is called sequentially\n",
        "    def plot_frame(i):\n",
        "        line.set_data(xpts, h[i*nskip,:])\n",
        "#        ax.set(title='Shallow water wave, h = h (x,t='+str(i).zfill(4)+')')\n",
        "        ax.set(title='Shallow water wave, h = h (x,t='+'{:12.2f}'.format(time[i*nskip])+' sec)')\n",
        "        return line,\n",
        "\n",
        "    # First set up the figure, the axis, and the plot elements we want to animate\n",
        "    fig = plt.figure()\n",
        "    ax = plt.axes(xlim=(xmin, xmax),ylim=[-0.1,1.1])\n",
        "    ax.set(xlabel='X position [m]', ylabel='Wave height [m]')\n",
        "    line, = ax.plot([], [], lw=2)\n",
        "\n",
        "    nframes = int(nsteps/nskip)+1\n",
        "    anim = animation.FuncAnimation(fig, plot_frame, init_func=init_frame, frames=nframes, \n",
        "                                interval=20,blit=True,repeat=True)\n",
        "    plt.close()\n",
        "    return anim\n"
      ],
      "execution_count": null,
      "outputs": []
    },
    {
      "cell_type": "code",
      "metadata": {
        "id": "y27kpHPNeQxZ"
      },
      "source": [
        "# Generate an animation of the solution $h = h(x,t)$.\n",
        "print(\"Rendering animation, please wait...\")\n",
        "plot_animation()\n"
      ],
      "execution_count": null,
      "outputs": []
    },
    {
      "cell_type": "markdown",
      "metadata": {
        "id": "zNbw-BrWygve"
      },
      "source": [
        "##Variable depth\n",
        "\n",
        "The phase speed depends on depth $c^2 = gH$, and the water depth may not be constant. i.e., $H = H(x)$. While it is possible to account for this within the original (non-linear) equatons, we can also account for it in the linear equations, by considering the problem of a wave equation with the variable coefficient. \n",
        "\n",
        "$$\n",
        "   \\frac{\\partial^2 h}{\\partial t^2} = \\\n",
        "      g \\frac{\\partial }{\\partial x} \\left(\n",
        "          H(x) \\frac{\\partial h}{\\partial x} \n",
        "        \\right)\n",
        "                        \\tag{9}\n",
        "$$\n",
        "\n",
        "\n",
        "Following the example above, we may immediately write down the finite difference analog for this equation. However, care is needed to evaluate the term in brackets at the same location on the computational grid. Specifically, write the $F = H \\partial h/\\partial x$, and note that this quantity that needs to be evaluated at the same grid location. This is most naturally done at \"half points\", denoted by local $i+1/2$, etc. In general, H might be some analytic function, or come from some external data source, and it can be specified at these locations. \n",
        "\n",
        "Let us write this term in finite difference form as\n",
        "$$ \n",
        "  F_{i+1/2} = H_{i-1/2} \\left( \\frac{h_{i+1} - h_{i}}{\\Delta x} \\right)\n",
        "$$\n",
        "\n",
        "\n",
        "and then our wave equation becomes\n",
        "\n",
        "\n",
        "$$\n",
        "\\frac{h_i^{n-1} - 2h_i^{n} + h_i^{n+1}}{(2\\Delta t)^2} = \n",
        "    g \\frac{F_{i+1/2} -  F_{i-1/2}} {\\Delta x}\n",
        "$$\n",
        "\n",
        "Substituting in the definion of F, the finite difference analog of equation (9) is:\n",
        "\n",
        "$$\n",
        "\\frac{h_i^{n-1} - 2h_i^{n} + h_i^{n+1}}{(2\\Delta t)^2} = \n",
        "    \\frac{g}{(\\Delta x)^2} \\left[\n",
        "            H_{i+1/2} ( h_{i+1}^n - h_{i}^n ) \n",
        "         -  H_{i-1/2} ( h_{i}^n - h_{i-1}^n )\n",
        "                       \\right]\n",
        "$$\n",
        "\n",
        "\n",
        "\n",
        "Finally, we may rearrange to give a prediction equation\n",
        "$$\n",
        "   h_i^{n+1} = (2 h_i^{n} - h_i^{n-1}) +\n",
        "     g r^2 \\left[\n",
        "            H_{i+1/2} ( h_{i+1}^n - h_{i}^n ) \n",
        "         -  H_{i-1/2} ( h_{i}^n - h_{i-1}^n )\n",
        "                       \\right]\n",
        "$$\n",
        "\n",
        "Notice a small detail that for a grid with $N$ cells that have midpoints at locations $i$, but there are $N+1$ \"interfaces\" between cells that are denoted by the \"half\" locations. Therefore the function H must be asisgned the $N+1$ values.\n",
        "\n",
        "Again, we may make the forecast we need by integrating over a number of small time steps. In this case, we must forst select a topography ptofile.\n",
        "\n",
        "Notice, that with a large H, the wave speed is fast, which can mean the Courant number r becomes large. The numerical solution is ONLY stable if r < 1. If you choose a large H, you will need to make $\\Delta t$ smaller to ensure stablity.\n",
        "(Or, make $\\Delta x$ larger!) The code here does not automatically check for this.\n",
        "\n",
        "\n"
      ]
    },
    {
      "cell_type": "code",
      "metadata": {
        "id": "KVcU5a_XXcJl"
      },
      "source": [
        "# Set up a topography profile.\n",
        "hamp = 0.0                           # \"Amplitude\" of slope <= hbar [CHANGE ME]\n",
        "Hbot = hbar + np.linspace(-hamp,hamp,nx+1)    # [Choose some function]\n",
        "\n",
        "# Run the model again! (noties n=0 retains the initial conditions)\n",
        "print(\"Integrating: nsteps=\",nsteps)\n",
        "for n in range(1,nsteps):\n",
        "    h[n+1,i] = 2*h[n,i] - h[n-1,i] + \\\n",
        "              gravity*rsq*(Hbot[ip]*(h[n,ip]-h[n,i]) - Hbot[i]*(h[n,i]-h[n,im]))\n",
        "\n",
        "print(\"Rendering animation, please wait...\")\n",
        "plot_animation()\n"
      ],
      "execution_count": null,
      "outputs": []
    },
    {
      "cell_type": "markdown",
      "metadata": {
        "id": "5DPZgVnASvZV"
      },
      "source": [
        "# Questions\n",
        "\n",
        "1. Using the constant depth model, confirm that the wave speed is dependent on the ocean depth, but it does not depend on the wave amplitude of \"width\".\n",
        "\n",
        "2. Configure the model to represent a tsunami. Consider a 1 meter high wave 1000 km out to sea. How long does it take to reach the shore. The typical depth of the South Atlantic near New Zealand is 1.5 km. Note: As written above in mostly non-dimensional form, we have gravity = 1! This is not the case on earth. You will need to select relevant values for gravity, xmin, xmax, and H. Also consider how long it should take. You may (do) need to change \"tmax\" as well: what should tmax be set to for the wave to reach the edge?\n",
        "\n",
        "3. Change the bootom topography to have a \"slope\" as it approaches the shore (on the left). Confirm that the wave will reach the shore more \n",
        "slowly that the speed of the wave out at sea. Consider the ocean to have a slope with an amplitude relative to the mean depth.\n",
        "\n",
        "4. What is the difference in the ampltude of the wave when it reaches the shore? \n",
        "\n",
        "5. ***Tsunami!*** What is the wave height when the depth gets only 1 meter deep? (What happens if Hbot = 0 @ x = xmin?)\n",
        "\n",
        "\n",
        "\n",
        "# Outcome\n",
        "\n",
        "This module has introduces the wave equation, and numerical solutions for time evolving flows. The concept of the Courant number and limits on this for numerical problems is a fundemental limitation on selection of spatial (x) resolution for particular time steps. Higher spatial resolution requires smaller time steps, and this is limited by the computation power at hand. This partly means your patience to wait for a high resolution solution, but also the capcity in of the computer to store the reults! Notice that $nx \\times ntime$ is the number of numbers stored in the \"h\" array. And each number is 8 bytes. Wile not a big deal in 1d, in 3d, $nx \\times ny \\times nz \\times ntime\\times 8 $ bytes can add up quite quickly!\n",
        "\n",
        "The module has also shown that the \"small wave\" approximation can be violated. As the amplitude grows with small wave speed (and small depth), we must at some point reconsider the linear assumtion, and the fact that we used small amplitude assumtion. At some point, we need to return to the linear equations, and more complex solution method. \n",
        "\n",
        "\n",
        "\n",
        "\n",
        "\n",
        "\n",
        "\n",
        "\n",
        "\n"
      ]
    },
    {
      "cell_type": "markdown",
      "metadata": {
        "id": "SQpNhRrmGTwj"
      },
      "source": [
        "##Bonus: Better Tsunami model?\n",
        "\n",
        "For the pythonically adventurous, the example above can easily be extended to 2d. One needs to define a \"y\" dimension, and the equations extended. Take note that the plotting now needs to be done in 2d. You may wish to use the contour (or contourf) function rather than \"plot\" to get a colored map in the X-Y plane. In the X-Y plane, you also need to consider the bottom topography. Some simple mathematical functions can be used, or one could consider obtaining real bathymetry data for the ocean sea floor. \n",
        "\n",
        "This starts to resemble and opperational tsunami forecast modelling!\n",
        "\n",
        "## Bonus 2: Going further, why stay linear? \n",
        "\n",
        "One can consider solving the full non-linear equations. While still quite straight foreward, it is a somewhat more complicated problem requiring more care in representing the non-linear advection term (which we have cleverly avoided in the derivation above!)\n",
        "\n"
      ]
    },
    {
      "cell_type": "code",
      "source": [
        "#print(time)"
      ],
      "metadata": {
        "id": "Noa-GodlaVZK"
      },
      "execution_count": null,
      "outputs": []
    }
  ]
}