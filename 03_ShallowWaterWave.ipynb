{
  "nbformat": 4,
  "nbformat_minor": 0,
  "metadata": {
    "colab": {
      "name": "03_ShallowWaterWave.ipynb",
      "provenance": [],
      "collapsed_sections": [],
      "authorship_tag": "ABX9TyOAyTcd2C/Vk+RQ2YUVwvYT",
      "include_colab_link": true
    },
    "kernelspec": {
      "name": "python3",
      "display_name": "Python 3"
    }
  },
  "cells": [
    {
      "cell_type": "markdown",
      "metadata": {
        "id": "view-in-github",
        "colab_type": "text"
      },
      "source": [
        "<a href=\"https://colab.research.google.com/github/davidnoone/PHYS332_FluidExamples/blob/main/03_ShallowWaterWave.ipynb\" target=\"_parent\"><img src=\"https://colab.research.google.com/assets/colab-badge.svg\" alt=\"Open In Colab\"/></a>"
      ]
    },
    {
      "cell_type": "markdown",
      "metadata": {
        "id": "Wi6WP_xKdgRn"
      },
      "source": [
        "# Shallow water equation in 1d\r\n",
        "Consider the a shallow water body with the surface as $z = H + \\eta$, where $H$ is the (constant) mean depth relative to a reference height at z=0. We may altunatievly write surface pertubation in terms of the depth of the water column as $\\eta = h + \\eta_b$, where the bottom topogarph is known.\r\n",
        "\r\n",
        "Mass continuity in 1d requires:\r\n",
        "\r\n",
        "$$\r\n",
        "\\frac{\\partial h}{\\partial t} + \\frac{\\partial (hu)}{\\partial x}  = 0 \r\n",
        "                                                                \\tag{1}\r\n",
        "$$\r\n",
        "\r\n",
        "Where u is the depth integrated (mean) velocity, and it is goverened by the (vertically integrated) momentum equation. \r\n",
        "\r\n",
        "$$\r\n",
        "\\frac{\\partial u}{\\partial t} = -u\\frac{\\partial u}{\\partial x}\r\n",
        "   -g \\frac{\\partial h}{\\partial x} \r\n",
        "                                                                \\tag{2}\r\n",
        "$$\r\n",
        "\r\n",
        "These non linear equations describe the shallow water system, which supports a wide range to different behviours. \r\n",
        "\r\n"
      ]
    },
    {
      "cell_type": "markdown",
      "metadata": {
        "id": "oLbnFiwHSFKi"
      },
      "source": [
        "\r\n",
        "## Linearized case\r\n",
        "\r\n",
        "We write the quantities h and u as a mean and deviation from the mean. $h = H + h'$ and $u' = u$, where we assume the mean velocity $U=0$. Substituting into equation 1 and 2, \r\n",
        "\r\n",
        "$$\r\n",
        "\\frac{\\partial h'}{\\partial t} + H \\frac{\\partial u}{\\partial x}  = 0 \r\n",
        "                                                                \\tag{3}\r\n",
        "$$\r\n",
        "and\r\n",
        "$$\r\n",
        "\\frac{\\partial u}{\\partial t} +  g \\frac{\\partial h'}{\\partial x} = 0\r\n",
        "                                                                 \\tag{4}\r\n",
        "$$\r\n",
        "\r\n",
        "Here, we have used the definitions that $\\eta' = h' + \\eta_b$ and noting that we assume $h' << H$ such that $h' + H \\approx H$. We can make some immediate simplifications. Further with the fluid velocity u' defined as being small, then terms involving products such as $u'u'$ can be neglected (i.e., linearlized) .\r\n",
        "\r\n",
        "Taking $\\partial/\\partial t$ of (3) and $\\partial/\\partial x$ (4) reaveals a common cross term ($\\partial^2 u/\\partial x\\partial t$) which may be elliminated to combine the two first order equation into a single second order equation:\r\n",
        "\r\n",
        "$$\r\n",
        "\\frac{\\partial^2 h'}{\\partial t^2} \r\n",
        "        + c^2 \\frac{\\partial^2 h'    }{\\partial x^2} = 0\r\n",
        "                                                      \\tag{5}\r\n",
        "$$\r\n",
        "\r\n",
        "where $c^2 = gH$. Equation (5) takes the form of a wave equation with a wave phase speed given by c. For this linearized case, the phase speed depends only on the mean water depth, H. \r\n"
      ]
    },
    {
      "cell_type": "markdown",
      "metadata": {
        "id": "mtPXmgCeSJbJ"
      },
      "source": [
        "##A numerical solution\r\n",
        "\r\n",
        "We may immediately write down a finite difference analog for equation (5). \r\n",
        "\r\n",
        "$$\r\n",
        "\\frac{h_i^{n-1} - 2h_i^{n} + h_i^{n+1}}{(2\\Delta t)^2} = \r\n",
        "    c^2 \\frac{h_{i-1}^{n} - 2 h_{i}^{n} + h_{i+1}^{n}}{(2\\Delta x)^2}\r\n",
        "$$\r\n",
        "\r\n",
        "Where the prime has been dropped for clarity. Writing the \"Courant number\" as \r\n",
        "$$\r\n",
        "r = c \\frac{\\Delta t}{\\Delta x} \r\n",
        "$$\r\n",
        "\r\n",
        "we may rearrange to give a prediction equation (i.e., terms  at the future time n+1 on the left, and terms involving the past on the right)\r\n",
        "$$\r\n",
        "   h_i^{n+1} = (2 h_i^{n} - h_i^{n-1}) +\r\n",
        "     r^2 (h_{i-1}^{n} - 2 hi_{i}^{n} + h_{i+1}^{n})\r\n",
        "$$\r\n",
        "\r\n",
        "The first term on the right can be viewed as a first order extrapolation to time $n+1$, with the remainder like a correction that provides an update based on the gradient at the centered time $n$. Some algebra let's us write a final form:\r\n",
        "\r\n",
        "$$\r\n",
        "   h_i^{n+1} = 2(1-r^2) h_i^{n} - h_i^{n-1} \r\n",
        "               + r^2 (h_{i-1}^{n} + h_{i+1}^{n})\r\n",
        "                                                  \\tag{8}\r\n",
        "$$\r\n",
        "\r\n",
        "\r\n",
        "This system is stable for $r < 1$.\r\n",
        "\r\n",
        "This can be integrated by selecting a computational grid with spacing $\\Delta x$ and marching forward in time by small increments given by the time step $\\Delta t$. Integration is continued until the needed forecast is produced. "
      ]
    },
    {
      "cell_type": "code",
      "metadata": {
        "id": "jh9gXz99PLHQ"
      },
      "source": [
        ""
      ],
      "execution_count": null,
      "outputs": []
    },
    {
      "cell_type": "code",
      "metadata": {
        "id": "aKRGpvNqdffS"
      },
      "source": [
        "from matplotlib import rc\r\n",
        "import numpy as np\r\n",
        "import matplotlib\r\n",
        "import matplotlib.pyplot as plt\r\n",
        "from matplotlib import animation\r\n",
        "rc('animation', html='jshtml')\r\n",
        "\r\n",
        "print(\"Imported all the modules\")"
      ],
      "execution_count": null,
      "outputs": []
    },
    {
      "cell_type": "code",
      "metadata": {
        "id": "L4totGO6dnwi"
      },
      "source": [
        "# Model runtime settings\r\n",
        "\r\n",
        "tmax  = 10                          # Run duation [seconds]\r\n",
        "\r\n",
        "# Space domain\r\n",
        "xmin = -5.0                         # Spatial domain maximum [meters]\r\n",
        "xmax =  5.0                         # Spatial domain [meters]\r\n",
        "nx   = 101                          # number of points\r\n",
        "dx = (xmax - xmin)/(nx-1)           # using nx-1 means the ends are included\r\n",
        "\r\n",
        "xpts = np.linspace(xmin,xmax,nx)    # Values of x \r\n",
        "\r\n",
        "hbar = 1.0                          # Set reference depth \"H\" [metres]\r\n",
        "gravity = 1.0                       # Define gravity (g=9.81 m/s2 on earth)\r\n",
        "\r\n",
        "csq    = hbar*gravity               # phase speed csq = g*H for shallow water [m/s2]\r\n",
        "cno_setting = 0.5                   # This must be < 1. Use 0.5 for safety!\r\n",
        "\r\n",
        "dtime = cno_setting*dx/np.sqrt(csq)\r\n",
        "nsteps = int(tmax/dtime) + 1        # number of steps needed to get to tmax\r\n",
        "\r\n",
        "print('nx=',nx,'dtime = ',dtime, ' which means nsteps=',nsteps)\r\n",
        "\r\n",
        "nskip  = 5                          # steps between output frames \r\n",
        "\r\n",
        "rsq = (dtime/dx)**2\r\n",
        "rcsq = rsq*csq\r\n",
        "twomr2 = 2*(1-rcsq)\r\n",
        "\r\n",
        "# Set up indices for the \"i+1\" and \"i-1\". Handy later on.\r\n",
        "i = np.arange(nx,dtype='int')\r\n",
        "ip = i+1\r\n",
        "im = i-1\r\n",
        "\r\n",
        "# Set reflective boundary conditions\r\n",
        "ip[nx-1] = nx-2\r\n",
        "im[   0] = 1\r\n",
        "\r\n",
        "# This version for periodic boundary conditions\r\n",
        "#ip[nx-1] = 0\r\n",
        "#im[   0] = nx-1\r\n",
        "\r\n",
        "# Create the main state array\r\n",
        "h = np.zeros((nsteps,nx))\r\n",
        "\r\n",
        "# Initial conditions - set as a Gaussian \"mountain\" of water\r\n",
        "print(\"initial conditions\")\r\n",
        "x0 = 0.0                # x location of mountain\r\n",
        "xw = 0.5                # width in units of \"x\"\r\n",
        "h[0,:] = np.exp( -((xpts-x0)**2)/(xw*xw))   # Initial conditions, \"gaussian mountain\"\r\n",
        "h[1,:] = h[0,:]             # First step is explicit forward.\r\n",
        "\r\n",
        "# Do the forecast! Integrate equation (8) over little steps \"dt\"\r\n",
        "print(\"Integrating: nsteps=\",nsteps)\r\n",
        "for n in range(1,nsteps-1):\r\n",
        "    h[n+1,i] = twomr2*h[n,i] - h[n-1,i] + rcsq*(h[n,im] + h[n,ip]) \r\n",
        "\r\n",
        "print('Integration complete')"
      ],
      "execution_count": null,
      "outputs": []
    },
    {
      "cell_type": "code",
      "metadata": {
        "id": "MmIHxfq9loSc"
      },
      "source": [
        "# Plot first few frames. Is it working?\r\n",
        "plt.plot(xpts,h[0,:])\r\n",
        "plt.plot(xpts,h[3*nskip,:])\r\n",
        "plt.plot(xpts,h[6*nskip,:])\r\n"
      ],
      "execution_count": null,
      "outputs": []
    },
    {
      "cell_type": "markdown",
      "metadata": {
        "id": "Bd36dsvN2K8y"
      },
      "source": [
        "## Visualizing the result\r\n",
        "\r\n",
        "You should see your initial \"mountain\" of water, that spreads outwards like ripples on a pond. The wave travels both directions (like ripples in a pond).\r\n",
        "\r\n",
        "\r\n",
        "### More output?\r\n",
        "The output has been stored in a single array, h, with dimensions (nsteps, nx) . We can work over the array to generate plots for each time to make an animation. If you have many steps, then this may become slow. The code is set up to \"skip\" some number of output times to speed it up (see nskip above)."
      ]
    },
    {
      "cell_type": "code",
      "metadata": {
        "id": "q9mg5t79LRUy"
      },
      "source": [
        "# Create an animation object by lopping over frame by frame\r\n",
        "def plot_animation():\r\n",
        "\r\n",
        "    # initialization function: plot the background of each frame\r\n",
        "    def init_frame():\r\n",
        "        line.set_data([], [])\r\n",
        "        return line,\r\n",
        "\r\n",
        "    # animation function.  This is called sequentially\r\n",
        "    def plot_frame(i):\r\n",
        "        line.set_data(xpts, h[i*nskip,:])\r\n",
        "        ax.set(title='Shallow water wave, h = h (x,t='+str(i).zfill(4)+')')\r\n",
        "        return line,\r\n",
        "\r\n",
        "    # First set up the figure, the axis, and the plot elements we want to animate\r\n",
        "    fig = plt.figure()\r\n",
        "    ax = plt.axes(xlim=(xmin, xmax),ylim=[-0.1,1.1])\r\n",
        "    ax.set(xlabel='X position [m]', ylabel='Wave height [m]')\r\n",
        "    line, = ax.plot([], [], lw=2)\r\n",
        "\r\n",
        "    nframes = int(nsteps/nskip)+1\r\n",
        "    anim = animation.FuncAnimation(fig, plot_frame, init_func=init_frame, frames=nframes, \r\n",
        "                                interval=20,blit=True,repeat=True)\r\n",
        "    plt.close()\r\n",
        "    return anim\r\n"
      ],
      "execution_count": null,
      "outputs": []
    },
    {
      "cell_type": "code",
      "metadata": {
        "id": "y27kpHPNeQxZ"
      },
      "source": [
        "# Generate an animation of the solution $h = h(x,t)$.\r\n",
        "print(\"Rendering animation, please wait...\")\r\n",
        "plot_animation()\r\n"
      ],
      "execution_count": null,
      "outputs": []
    },
    {
      "cell_type": "markdown",
      "metadata": {
        "id": "zNbw-BrWygve"
      },
      "source": [
        "##Variable depth\r\n",
        "\r\n",
        "The phase speed depends on depth $c^2 = gH$, and the water depth may not be constant. i.e., $H = H(x)$. While it is possible to account for this within the original (non-linear) equatons, we can also account for it in the linear equations, by considering the problem of a wave equation with the variable coefficient. \r\n",
        "\r\n",
        "$$\r\n",
        "   \\frac{\\partial^2 h}{\\partial t^2} = \\\r\n",
        "      g \\frac{\\partial }{\\partial x} \\left(\r\n",
        "          H(x) \\frac{\\partial h}{\\partial x} \r\n",
        "        \\right)\r\n",
        "                        \\tag{9}\r\n",
        "$$\r\n",
        "\r\n",
        "\r\n",
        "Following the example above, we may immediately write down the finite difference analog for this equation. However, care is needed to evaluate the term in brackets at the same location on the computational grid. Specifically, write the $F = H \\partial h/\\partial x$, and note that this quantity that needs to be evaluated at the same grid location. This is most naturally done at \"half points\", denoted by local $i+1/2$, etc. In general, H might be some analytic function, or come from some external data source, and it can be specified at these locations. \r\n",
        "\r\n",
        "Let us write this term in finite difference form as\r\n",
        "$$ \r\n",
        "  F_{i+1/2} = H_{i-1/2} \\left( \\frac{h_{i+1} - h_{i}}{\\Delta x} \\right)\r\n",
        "$$\r\n",
        "\r\n",
        "\r\n",
        "and then our wave equation becomes\r\n",
        "\r\n",
        "\r\n",
        "$$\r\n",
        "\\frac{h_i^{n-1} - 2h_i^{n} + h_i^{n+1}}{(2\\Delta t)^2} = \r\n",
        "    g \\frac{F_{i+1/2} -  F_{i-1/2}} {\\Delta x}\r\n",
        "$$\r\n",
        "\r\n",
        "Substituting in the definion of F, the finite difference analog of equation (9) is:\r\n",
        "\r\n",
        "$$\r\n",
        "\\frac{h_i^{n-1} - 2h_i^{n} + h_i^{n+1}}{(2\\Delta t)^2} = \r\n",
        "    \\frac{g}{(\\Delta x)^2} \\left[\r\n",
        "            H_{i+1/2} ( h_{i+1}^n - h_{i}^n ) \r\n",
        "         -  H_{i-1/2} ( h_{i}^n - h_{i-1}^n )\r\n",
        "                       \\right]\r\n",
        "$$\r\n",
        "\r\n",
        "\r\n",
        "\r\n",
        "Finally, we may rearrange to give a prediction equation\r\n",
        "$$\r\n",
        "   h_i^{n+1} = (2 h_i^{n} - h_i^{n-1}) +\r\n",
        "     g r^2 \\left[\r\n",
        "            H_{i+1/2} ( h_{i+1}^n - h_{i}^n ) \r\n",
        "         -  H_{i-1/2} ( h_{i}^n - h_{i-1}^n )\r\n",
        "                       \\right]\r\n",
        "$$\r\n",
        "\r\n",
        "Notice a small detail that for a grid with $N$ cells that have midpoints at locations $i$, but there are $N+1$ \"interfaces\" between cells that are denoted by the \"half\" locations. Therefore the function H must be asisgned the $N+1$ values.\r\n",
        "\r\n",
        "Again, we may make the forecast we need by integrating over a number of small time steps. In this case, we must forst select a topography ptofile.\r\n",
        "\r\n",
        "Notice, that with a large H, the wave speed is fast, which can mean the Courant number r becomes large. The numerical solution is ONLY stable if r < 1. If you choose a large H, you will need to make $\\Delta t$ smaller to ensure stablity.\r\n",
        "(Or, make $\\Delta x$ larger!) The code here does not automatically check for this.\r\n",
        "\r\n",
        "\r\n"
      ]
    },
    {
      "cell_type": "code",
      "metadata": {
        "id": "KVcU5a_XXcJl"
      },
      "source": [
        "# Set up a topography profile.\r\n",
        "hamp = 0.0                           # \"Amplitude\" of slope <= hbar [CHANGE ME]\r\n",
        "Hbot = hbar + np.linspace(-hamp,hamp,nx+1)    # [Choose some function]\r\n",
        "\r\n",
        "# Run the model again!\r\n",
        "print(\"Integrating: nsteps=\",nsteps)\r\n",
        "for n in range(1,nsteps-1):\r\n",
        "    h[n+1,i] = 2*h[n,i] - h[n-1,i] + \\\r\n",
        "              gravity*rsq*(Hbot[ip]*(h[n,ip]-h[n,i]) - Hbot[i]*(h[n,i]-h[n,im]))\r\n",
        "\r\n",
        "print(\"Rendering animation, please wait...\")\r\n",
        "plot_animation()\r\n"
      ],
      "execution_count": null,
      "outputs": []
    },
    {
      "cell_type": "markdown",
      "metadata": {
        "id": "5DPZgVnASvZV"
      },
      "source": [
        "# Questions\r\n",
        "\r\n",
        "1. Using the constant depth model, confirm that the wave speed is dependent on the ocean depth, but it does not depend on the wave amplitude of \"width\".\r\n",
        "\r\n",
        "2. Configure the model to represent a tsunami. Consider a 1 meter high wave 1000 km out to sea. How long does it take to reach the shore. The typical depth of the South Atlantic near New Zealand is 1.5 km. _Note: As written above in mostly non-dimensional form, we have gravity = 1! This is not the case on earth. You will need to select relevant values for gravity, xmin, xmax, and H. This may place limits on the balance of $\\Delta x$ and $\\Delta t$ that you will need. Choose carefully._\r\n",
        "\r\n",
        "3. Change the bootom topography to have a \"slope\" as it approaches the shore (on the left). Confirm that the wave will reach the shore more \r\n",
        "slowly that the speed of the wave out at sea. Consider the ocean to have a slope with an amplitude relative to the mean depth.\r\n",
        "\r\n",
        "4. What is the difference in the ampltude of the wave when it reaches the shore? \r\n",
        "\r\n",
        "5. ***Tsunami!*** What is the wave height when the depth gets only 1 meter deep? (What happens if Hbot = 0 @ x = xmin?)\r\n",
        "\r\n",
        "\r\n",
        "\r\n",
        "# Outcome\r\n",
        "\r\n",
        "This module has introduces the wave equation, and numerical solutions for time evolving flows. The concept of the Courant number and limits on this for numerical problems is a fundemental limitation on selection of spatial (x) resolution for particular time steps. Higher spatial resolution requires smaller time steps, and this is limited by the computation power at hand. This partly means your patience to wait for a high resolution solution, but also the capcity in of the computer to store the reults! Notice that $nx \\times ntime$ is the number of numbers stored in the \"h\" array. And each number is 8 bytes. Wile not a big deal in 1d, in 3d, $nx \\times ny \\times nz \\times ntime\\times 8 $ bytes can add up quite quickly!\r\n",
        "\r\n",
        "The module has also shown that the \"small wave\" approximation can be violated. As the amplitude grows with small wave speed (and small depth), we must at some point reconsider the linear assumtion, and the fact that we used small amplitude assumtion. At some point, we need to return to the linear equations, and more complex solution method. \r\n",
        "\r\n",
        "\r\n",
        "\r\n",
        "\r\n",
        "\r\n",
        "\r\n",
        "\r\n",
        "\r\n",
        "\r\n"
      ]
    },
    {
      "cell_type": "markdown",
      "metadata": {
        "id": "SQpNhRrmGTwj"
      },
      "source": [
        "##Bonus: Better Tsunami model?\r\n",
        "\r\n",
        "For the pythonically adventurous, the example above can easily be extended to 2d. One needs to define a \"y\" dimension, and the equations extended. Take note that the plotting now needs to be done in 2d. You may wish to use the contour (or contourf) function rather than \"plot\" to get a colored map in the X-Y plane. In the X-Y plane, you also need to consider the bottom topography. Some simple mathematical functions can be used, or one could consider obtaining real bathymetry data for the ocean sea floor. \r\n",
        "\r\n",
        "This starts to resemble and opperational tsunami forecast modelling!\r\n",
        "\r\n",
        "## Bonus 2: Going further, why stay linear? \r\n",
        "\r\n",
        "One can consider solving the full non-linear equations. While still quite straight foreward, it is a somewhat more complicated problem requiring more care in representing the non-linear advection term (which we have cleverly avoided in the derivation above!)\r\n",
        "\r\n"
      ]
    }
  ]
}