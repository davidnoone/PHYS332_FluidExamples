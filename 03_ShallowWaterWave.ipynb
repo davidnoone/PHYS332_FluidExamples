{
  "nbformat": 4,
  "nbformat_minor": 0,
  "metadata": {
    "colab": {
      "name": "03_ShallowWaterWave.ipynb",
      "provenance": [],
      "collapsed_sections": [],
      "authorship_tag": "ABX9TyMCV9yirRSOSZO4km1fcZVw",
      "include_colab_link": true
    },
    "kernelspec": {
      "name": "python3",
      "display_name": "Python 3"
    }
  },
  "cells": [
    {
      "cell_type": "markdown",
      "metadata": {
        "id": "view-in-github",
        "colab_type": "text"
      },
      "source": [
        "<a href=\"https://colab.research.google.com/github/davidnoone/PHYS332_FluidExamples/blob/main/03_ShallowWaterWave.ipynb\" target=\"_parent\"><img src=\"https://colab.research.google.com/assets/colab-badge.svg\" alt=\"Open In Colab\"/></a>"
      ]
    },
    {
      "cell_type": "markdown",
      "metadata": {
        "id": "Wi6WP_xKdgRn"
      },
      "source": [
        "# Shallow water equation in 1d\r\n",
        "Consider the of a water surface as $z = H + \\eta$, where $H$ is the (constant) mean depth relative to a reference height at z=0. We may altunatievly write surface pertubation in terms of the depth of the water column as $\\eta = h + \\eta_b$, where the bottom topogarph is known.\r\n",
        "\r\n",
        "Mass continuity in 1d requires:\r\n",
        "\r\n",
        "$$\r\n",
        "\\frac{\\partial h}{\\partial t} + \\frac{\\partial (hu)}{\\partial x}  = 0 \r\n",
        "                                                                \\tag{1}\r\n",
        "$$\r\n",
        "\r\n",
        "Where u is the depth integrated (mean) velocity, and is goverened by the (vertically integrated) momentum equation. \r\n",
        "\r\n",
        "$$\r\n",
        "\\frac{\\partial u}{\\partial t} = -u\\frac{\\partial u}{\\partial x}\r\n",
        "   -g \\frac{\\partial h}{\\partial x} \r\n",
        "                                                                \\tag{2}\r\n",
        "$$\r\n",
        "\r\n",
        "\r\n",
        "\r\n",
        "*italicized text*\r\n"
      ]
    },
    {
      "cell_type": "markdown",
      "metadata": {
        "id": "oLbnFiwHSFKi"
      },
      "source": [
        "\r\n",
        "# Linearized case\r\n",
        "\r\n",
        "We write the quantities h and u as a mean and deviation from the mean. $h = H + h'$ and $u' = u$, where we assume the mean velocity $U=0$. Substituting into equation 1 and 2, \r\n",
        "\r\n",
        "$$\r\n",
        "\\frac{\\partial h'}{\\partial t} + H \\frac{\\partial u}{\\partial x}  = 0 \r\n",
        "                                                                \\tag{3}\r\n",
        "$$\r\n",
        "and\r\n",
        "$$\r\n",
        "\\frac{\\partial u}{\\partial t} +  g \\frac{\\partial h'}{\\partial x} = 0\r\n",
        "                                                                 \\tag{4}\r\n",
        "$$\r\n",
        "\r\n",
        "Recalling $\\eta' = h' + \\eta_b$ and noting that we assume $h' << H$ such that $h' + H \\approx H$ and that with the fluid velocity u' is small produces involving products such as $u'u'$ can be neglected (i.e., linearlized).\r\n",
        "\r\n",
        "Taking $\\partial/\\partial t$ of (5) and $\\partial/\\partial x$ (6) reaveals a common cross term ($\\partial^2 u/\\partial x\\partial t$) which may be elliminated to give\r\n",
        "\r\n",
        "$$\r\n",
        "\\frac{\\partial^2 h'}{\\partial t^2} \r\n",
        "        + c^2 \\frac{\\partial^2 h'    }{\\partial x^2} = 0\r\n",
        "                                                      \\tag{5}\r\n",
        "$$\r\n",
        "\r\n",
        "where $c^2 = gH$. Equation (7) takes the form of a wave equation with a wave phase speed given by c. For this linearized case, the phase speed depends only on the mean water depth. \r\n"
      ]
    },
    {
      "cell_type": "markdown",
      "metadata": {
        "id": "mtPXmgCeSJbJ"
      },
      "source": [
        "##A numerical solution\r\n",
        "\r\n",
        "We may immediately write down a finite difference analog for equation (5). \r\n",
        "\r\n",
        "$$\r\n",
        "\\frac{h_i^{n-1} - 2h_i^{n} + h_i^{n+1}}{(2\\Delta t)^2} = \r\n",
        "    c^2 \\frac{h_{i-1}^{n} - 2 h_{i}^{n} + h_{i+1}^{n}}{(2\\Delta x)^2}\r\n",
        "$$\r\n",
        "\r\n",
        "Where the prime has been dropped for clarity. Writing the courant number as \r\n",
        "$$\r\n",
        "r = c \\frac{\\Delta t}{\\Delta x} \r\n",
        "$$\r\n",
        "\r\n",
        "we may rearrange to give a prediction equation\r\n",
        "$$\r\n",
        "   h_i^{n+1} = (2 h_i^{n} - h_i^{n-1}) +\r\n",
        "     r^2 (h_{i-1}^{n} - 2 hi_{i}^{n} + h_{i+1}^{n})\r\n",
        "$$\r\n",
        "\r\n",
        "The first term on the right can be viewed as a first order extrapolation to time $n+1$, with the remainder like a correction that updates based on the gradient at the centered time $n$. Some final algebra into final form gives\r\n",
        "\r\n",
        "$$\r\n",
        "   h_i^{n+1} = 2(1-r^2) h_i^{n} - h_i^{n-1} \r\n",
        "               + r^2 (h_{i-1}^{n} + h_{i+1}^{n})\r\n",
        "                                                  \\tag{8}\r\n",
        "$$\r\n",
        "\r\n",
        "\r\n",
        "This system is stable for $r < 1$."
      ]
    },
    {
      "cell_type": "code",
      "metadata": {
        "id": "jh9gXz99PLHQ"
      },
      "source": [
        ""
      ],
      "execution_count": null,
      "outputs": []
    },
    {
      "cell_type": "code",
      "metadata": {
        "id": "aKRGpvNqdffS"
      },
      "source": [
        "from matplotlib import rc\r\n",
        "import numpy as np\r\n",
        "import matplotlib\r\n",
        "import matplotlib.pyplot as plt\r\n",
        "from matplotlib import animation\r\n",
        "print(\"Imported all the modules\")"
      ],
      "execution_count": null,
      "outputs": []
    },
    {
      "cell_type": "code",
      "metadata": {
        "id": "L4totGO6dnwi"
      },
      "source": [
        "# Define the problem dimensions\r\n",
        "tmax  = 10\r\n",
        "dtime = 0.02                #time increment\r\n",
        "nsteps = int(tmax/dtime) + 1\r\n",
        "nskip  = 5                # steps between output frames\r\n",
        "\r\n",
        "# Space domain\r\n",
        "xmin = -5.0\r\n",
        "xmax =  5.0               \r\n",
        "dx = 0.05                 # grid size\r\n",
        "nx     = int((xmax-xmin)/dx) + 1    #number of points on x grid\r\n",
        "\r\n",
        "xpts = np.linspace(xmin,xmax,nx)\r\n",
        "print('nx=',nx,'nsteps=',nsteps)\r\n",
        "\r\n",
        "hbar = 1.0\r\n",
        "gravity = 1.0\r\n",
        "\r\n",
        "cspd    = hbar*gravity       # phase speed csq = g*H for shallow water\r\n",
        "cno = cspd*dtime/dx\r\n",
        "\r\n",
        "\r\n",
        "print('Courant number:',cno)\r\n",
        "if (abs(cno) > 1.0):\r\n",
        "    print('WARNING CNO IS UNSTABLE - prepare to die')\r\n",
        "\r\n",
        "rsq = cno**2\r\n",
        "twomr2 = 2*(1-rsq)\r\n",
        "\r\n",
        "# initialize main state array\r\n",
        "h = np.zeros((nsteps,nx))\r\n",
        "\r\n",
        "# Initial conditions - set as a Gaussian\r\n",
        "print(\"initial conditions\")\r\n",
        "xw = 0.5            # width\r\n",
        "x0 = 0.0         # center location\r\n",
        "h[0,:] = np.exp( -((xpts-x0)**2)/(xw*xw))\r\n",
        "h[1,:] = h[0,:]             # First step is explicit forward.\r\n",
        "\r\n",
        "# Integrate the wave equation\r\n",
        "print(\"integrating: nsteps=\",nsteps)\r\n",
        "for n in range(1,nsteps-1):\r\n",
        "    for i in range(0,nx):\r\n",
        "        # Reflective boundary conditions\r\n",
        "        ip = i+1 if i < nx-1 else i-1\r\n",
        "        im = i-1 if i > 0    else i+1\r\n",
        "\r\n",
        "#        # Periodic boundary conditions\r\n",
        "#        ip = i+1 if i < nx-1 else i+1-nx\r\n",
        "#        im = i-1 if i > 0    else i-1+nx\r\n",
        "\r\n",
        "        # This is equation (8) \r\n",
        "        h[n+1,i] = twomr2*h[n,i] - h[n-1,i] + rsq*(h[n,im]+h[n,ip]) \r\n",
        "\r\n",
        "print('Integration complete')"
      ],
      "execution_count": null,
      "outputs": []
    },
    {
      "cell_type": "code",
      "metadata": {
        "id": "MmIHxfq9loSc"
      },
      "source": [
        "# Plot first few frames. Is it working?\r\n",
        "plt.plot(xpts,h[0,:])\r\n",
        "plt.plot(xpts,h[3*nskip,:])\r\n",
        "plt.plot(xpts,h[6*nskip,:])"
      ],
      "execution_count": null,
      "outputs": []
    },
    {
      "cell_type": "markdown",
      "metadata": {
        "id": "Bd36dsvN2K8y"
      },
      "source": [
        "The output has been stored in a single (nsteps, nx) array. We can work over the array to generate plots for each time to make an animation."
      ]
    },
    {
      "cell_type": "code",
      "metadata": {
        "id": "q9mg5t79LRUy"
      },
      "source": [
        "# initialization function: plot the background of each frame\r\n",
        "def init_frame():\r\n",
        "    print(\"INIT called\")\r\n",
        "    line.set_data([], [])\r\n",
        "    return line,\r\n",
        "\r\n",
        "# animation function.  This is called sequentially\r\n",
        "def plot_frame(i):\r\n",
        "    line.set_data(xpts, h[i*nskip,:])\r\n",
        "    return line,"
      ],
      "execution_count": null,
      "outputs": []
    },
    {
      "cell_type": "code",
      "metadata": {
        "id": "y27kpHPNeQxZ"
      },
      "source": [
        "# First set up the figure, the axis, and the plot elements we want to animate\r\n",
        "fig = plt.figure()\r\n",
        "ax = plt.axes(xlim=(xmin, xmax),ylim=[-0.1,1.1])\r\n",
        "line, = ax.plot([], [], lw=2)\r\n",
        "\r\n",
        "nframes = int(nsteps/nskip)+1\r\n",
        "anim = animation.FuncAnimation(fig, plot_frame, init_func=init_frame, frames=nframes, \r\n",
        "                                interval=20,blit=True,repeat=True)\r\n",
        "plt.close()\r\n",
        "\r\n",
        "# instantiate the animation for in line JS HTML\r\n",
        "rc('animation', html='jshtml')\r\n",
        "print(\"Rendering, please wait...\")\r\n",
        "anim\r\n"
      ],
      "execution_count": null,
      "outputs": []
    },
    {
      "cell_type": "markdown",
      "metadata": {
        "id": "zNbw-BrWygve"
      },
      "source": [
        "##Variable depth\r\n",
        "The phase speed depends on depth $c^2 = gH$, and the water depth may not be constant. i.e., $H = H(x)$. While it is possible to account for this within the original (non-linear) equatons, we can also account for it in the linear equations, by considering the problem of a wave equatin with the variable coefficient. \r\n",
        "\r\n",
        "$$\r\n",
        "   \\frac{\\partial^2 h}{\\partial t^2} = \\\r\n",
        "      g \\frac{\\partial }{\\partial x} \\left(\r\n",
        "          H(x) \\frac{\\partial h}{\\partial x} \r\n",
        "        \\right)\r\n",
        "$$\r\n",
        "\r\n",
        "\r\n",
        "Following the example above, we may immediately write down the finite difference analog for this equation. Care, however, is needed to evaluate the term in brackets at the same time. Specifically, the $F = H \\partial h/\\partial x$ is a quantity that needs to be evaluated at the same grid location. This is most naturally done at grid \"half points\", denoted by local $i+1/2$, etc. In general, H might be some analytic function, or come from some external data source, and it can be specified at these locations. \r\n",
        "\r\n",
        "Let us write this term as \"F\"\r\n",
        "$$ \r\n",
        "  F_{i+1/2} = H_{i-1/2} \\left( \\frac{h_{i+1} - h{i}}{\\Delta x} \\right)\r\n",
        "$$\r\n",
        "\r\n",
        "\r\n",
        "And then\r\n",
        "\r\n",
        "\r\n",
        "$$\r\n",
        "\\frac{h_i^{n-1} - 2h_i^{n} + h_i^{n+1}}{(2\\Delta t)^2} = \r\n",
        "    g \\frac{F_{i+1/2} -  F_{i-1/2}} {\\Delta x}\r\n",
        "$$\r\n",
        "\r\n",
        "And using the definition of F, \r\n",
        "\r\n",
        "$$\r\n",
        "\\frac{h_i^{n-1} - 2h_i^{n} + h_i^{n+1}}{(2\\Delta t)^2} = \r\n",
        "    \\frac{g}{(\\Delta x)^2} \\left[\r\n",
        "            H_{i+1/2} ( h_{i+1}^n - h_{i}^n ) \r\n",
        "         -  H_{i-1/2} ( h_{i}^n - h_{i-1}^n )\r\n",
        "                       \\right]\r\n",
        "$$\r\n",
        "\r\n",
        "\r\n",
        "Finally,we may rearrange to give a prediction equation\r\n",
        "$$\r\n",
        "   h_i^{n+1} = (2 h_i^{n} - h_i^{n-1}) +\r\n",
        "     g r^2 \\left[\r\n",
        "            H_{i+1/2} ( h_{i+1}^n - h_{i}^n ) \r\n",
        "         -  H_{i-1/2} ( h_{i}^n - h_{i-1}^n )\r\n",
        "                       \\right]\r\n",
        "$$\r\n",
        "\r\n",
        "Notice a small detail that for a grid with $N$ cells that have midpoints $i$, there are $N+1$ interfaces that accompany the \"half\" locations. Therfore the function H must be asisgned the $N+1$ values.\r\n",
        "\r\n",
        "\r\n",
        "\r\n"
      ]
    },
    {
      "cell_type": "code",
      "metadata": {
        "id": "KVcU5a_XXcJl"
      },
      "source": [
        "# Set up a topography profile.\r\n",
        "hamp = 0.0            # \"Amplitude\" of slope  [CHANGE ME]\r\n",
        "Hbot = 1 + np.linspace(-hamp,hamp,nx+1)\r\n",
        "\r\n",
        "# Run the model again!\r\n",
        "print(\"integrating: nsteps=\",nsteps)\r\n",
        "for n in range(1,nsteps-1):\r\n",
        "    for i in range(0,nx):\r\n",
        "        # Refective boundary conditions\r\n",
        "        ip = i+1 if i < nx-1 else i-1\r\n",
        "        im = i-1 if i > 0    else i+1\r\n",
        "\r\n",
        "        h[n+1,i] = 2*h[n,i] - h[n-1,i] + gravity*rsq*(Hbot[ip]*(h[n,ip]-h[n,i]) - Hbot[i]*(h[n,i] - h[n,im]))\r\n",
        "\r\n",
        "# Plot the results\r\n",
        "fig = plt.figure()\r\n",
        "ax = plt.axes(xlim=(xmin, xmax),ylim=[-0.1,1.1])\r\n",
        "line, = ax.plot([], [], lw=2)\r\n",
        "\r\n",
        "nframes = int(nsteps/nskip)+1\r\n",
        "anim = animation.FuncAnimation(fig, plot_frame, init_func=init_frame, frames=nframes, \r\n",
        "                                interval=20,blit=True,repeat=True)\r\n",
        "plt.close()\r\n",
        "\r\n",
        "# instantiate the animation for in line JS HTML\r\n",
        "rc('animation', html='jshtml')\r\n",
        "print(\"Rendering, please wait...\")\r\n",
        "anim"
      ],
      "execution_count": null,
      "outputs": []
    },
    {
      "cell_type": "markdown",
      "metadata": {
        "id": "5DPZgVnASvZV"
      },
      "source": [
        "# Quuestions\r\n",
        "\r\n",
        "1.   Confirm that the wave speed is dependent on the ocean depth, but it does not depend on the wave amplitude of \"width\".\r\n",
        "\r\n",
        "\r\n",
        "2.  Configure the model to represent a tsunami. Consider a 1 meter high wave 1000 km out to sea. How long does it take to reach the shore. The typical depth of the South Atlantic near New Zealand is 1.5 km. \r\n",
        "\r\n",
        "3. Add a \"slope\" to the bottom. Confirm that the wave will reach the shore more \r\n",
        "slowly that the speed of the wave out at sea. \r\n",
        "Consider the ocean to have a slope with an amplitude relative to the mean depth.\r\n",
        "\r\n",
        "4. What is the difference in the ampltude of the wave when it reachest the shore?\r\n",
        "\r\n",
        "\r\n",
        "\r\n",
        "\r\n",
        "\r\n",
        "\r\n",
        "\r\n",
        "\r\n",
        "\r\n"
      ]
    }
  ]
}