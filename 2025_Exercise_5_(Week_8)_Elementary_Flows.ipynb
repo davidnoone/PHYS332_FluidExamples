{
  "nbformat": 4,
  "nbformat_minor": 0,
  "metadata": {
    "colab": {
      "provenance": [],
      "collapsed_sections": [
        "IBCJQwhG9tVa",
        "tP3MQ1qhQErX"
      ],
      "include_colab_link": true
    },
    "kernelspec": {
      "name": "python3",
      "display_name": "Python 3"
    },
    "language_info": {
      "name": "python"
    }
  },
  "cells": [
    {
      "cell_type": "markdown",
      "metadata": {
        "id": "view-in-github",
        "colab_type": "text"
      },
      "source": [
        "<a href=\"https://colab.research.google.com/github/davidnoone/PHYS332_FluidExamples/blob/main/2025_Exercise_5_(Week_8)_Elementary_Flows.ipynb\" target=\"_parent\"><img src=\"https://colab.research.google.com/assets/colab-badge.svg\" alt=\"Open In Colab\"/></a>"
      ]
    },
    {
      "cell_type": "markdown",
      "metadata": {
        "id": "IBCJQwhG9tVa"
      },
      "source": [
        "##Elementary flows\n",
        "\n",
        "For steady, invicid, incompressible flow, it can be shown that several elementary flows can be defined in terms of the velocity potential, $\\phi$. For these type of potential flow, the stream function $\\psi$ is orthogonal and equally useful for defining the flow. One advantage of this framework is that solutions are linear, so that elementary flows can be added together to get more complex cases.\n",
        "\n",
        "From lectures, here are three important elementary flows:\n",
        "\n",
        "**a. Uniform flow**: constant velocity at some particular angle.\n",
        "\n",
        "$$\n",
        "    u = U_0 \\cos(\\alpha)\n",
        "$$\n",
        "\n",
        "$$\n",
        "    v = U_0 \\sin(\\alpha)\n",
        "$$\n",
        "\n",
        "\n",
        "**b. Point source**: One can imagine a manhole cover as a concept for a point source. We define the mass flux as $Q$, which must be constant outward along a radial line. In polar coordinates, $u_\\theta = 0$, and\n",
        "\n",
        "$$\n",
        "u_r = \\frac{Q}{2 \\pi} \\frac{1}{r}\n",
        "$$\n",
        "\n",
        "\n",
        "**c. Free vortex**: While vorticity is a measure of local rotation, it describes both curvature and shear. If these two cancel one can have a free vortex describing circular motion with circulation $\\Gamma$. The radial velocity is $u_r=0$, and the azimuthal velocity is\n",
        "\n",
        "$$\n",
        "u_\\theta = \\frac{\\Gamma}{2 \\pi} \\frac{1}{r}\n",
        "$$\n",
        "\n",
        "\n",
        "In each of these cases, one can express the stream function and velocity potential via the normal gradient relationships in either polar or Cartesian coordinates. Here, we wish to show graphs on an $x$-$y$ plane, and so Cartesian coordinates are preferred.\n",
        "\n",
        "\n",
        "## Task\n",
        "\n",
        "1. Plot examples of each type of flow (a, b, c above). Include velocity vectors and contours for the stream function and velocity potential.\n",
        "\n",
        "Try combinations.\n",
        "2. Freestream plus a source.\n",
        "3. Freestream plus a vortex.\n",
        "4. Source near a sink (negative source).\n",
        "5. A source near another source.\n",
        "6. A vortex near another vortex.\n",
        "7. A vortex near another vortex of opposite sign.\n",
        "8. Pressure in the region of a doublet in a freestream.\n",
        "\n",
        "(1a-c and 4 are given as worked examples)"
      ]
    },
    {
      "cell_type": "code",
      "metadata": {
        "id": "_2CyXDqn9qpV"
      },
      "source": [
        "## from matplotlib import rc\n",
        "import numpy as np\n",
        "import matplotlib\n",
        "import matplotlib.pyplot as plt\n",
        "\n",
        "\n",
        "print(\"Imported all the modules\")"
      ],
      "execution_count": null,
      "outputs": []
    },
    {
      "cell_type": "markdown",
      "metadata": {
        "id": "tP3MQ1qhQErX"
      },
      "source": [
        "##1a. Uniform flow (\"freestream\")"
      ]
    },
    {
      "cell_type": "code",
      "metadata": {
        "id": "tQ2HlXPB_kKL"
      },
      "source": [
        "# Freestream velocities (constant!)\n",
        "def vel_freestream(xx,yy,U0,alpha):\n",
        "    u = U0*np.cos(alpha)*np.ones_like(xx)\n",
        "    v = U0*np.sin(alpha)*np.ones_like(xx)\n",
        "    return u, v\n",
        "\n",
        "# Get the velocity potential of the freestream: linear slope\n",
        "def phi_freestream(xx,yy,U0,alpha):\n",
        "    u,v = vel_freestream(xx,yy,U0,alpha)\n",
        "    phi = u*xx + v*yy\n",
        "    return phi\n",
        "\n",
        "# Get the streamfunction of the freestream\n",
        "def psi_freestream(xx,yy,U0,alpha):\n",
        "    u,v = vel_freestream(xx,yy,U0,alpha)\n",
        "    psi = u*yy - v*xx\n",
        "    return psi\n"
      ],
      "execution_count": null,
      "outputs": []
    },
    {
      "cell_type": "markdown",
      "metadata": {
        "id": "vBekgqfMSIUV"
      },
      "source": [
        "# Making a Plot\n",
        "\n",
        "Here we set up a simple domain with $x$ and $y$ coordinates, then plot a variety of functions. There is no need to include all functions for every plot; in fact, try to choose which plots seem sensible in each case.\n",
        "\n",
        "We can try out two functions for plotting the velocity field:\n",
        "\n",
        "plt.streamplot https://www.geeksforgeeks.org/matplotlib-pyplot-streamplot-in-python/\n",
        "\n",
        "plt.quiver https://www.geeksforgeeks.org/quiver-plot-in-matplotlib/\n",
        "\n",
        "... and another one for contour plots:\n",
        "\n",
        "plt.contour https://www.geeksforgeeks.org/matplotlib-pyplot-contourf-in-python/"
      ]
    },
    {
      "cell_type": "code",
      "metadata": {
        "id": "JlcbW3rr_nIL"
      },
      "source": [
        "# Set up a \"grid for plotting\"\n",
        "xmin = 0.\n",
        "xmax = 5.\n",
        "ymin = 0.\n",
        "ymax = 5.\n",
        "nx = 50\n",
        "ny = 50\n",
        "x = np.linspace(xmin, xmax, nx)\n",
        "y = np.linspace(xmin, xmax, nx)\n",
        "xx, yy = np.meshgrid(x,y)\n",
        "\n",
        "size=8"
      ],
      "execution_count": null,
      "outputs": []
    },
    {
      "cell_type": "code",
      "metadata": {
        "id": "1sbgucNk_4Mg"
      },
      "source": [
        "# Plot a freestream case\n",
        "fig = plt.figure(figsize=(6,6))\n",
        "plt.axis('equal')\n",
        "plt.title('Freestream')\n",
        "\n",
        "U0 = 1.\n",
        "alpha = 0 * np.pi/180 #angle of the flow to the horizontal, set to zero here\n",
        "\n",
        "# Use functions defined above to calculate variables in suitable format for plotting\n",
        "ufree,vfree = vel_freestream(xx,yy,U0,alpha)\n",
        "phi_free = phi_freestream(xx,yy,U0,alpha)\n",
        "psi_free = psi_freestream(xx,yy,U0,alpha)\n",
        "\n",
        "# To plot velocity vectors, we can use plt.streamplot: https://www.geeksforgeeks.org/matplotlib-pyplot-streamplot-in-python/\n",
        "p = plt.streamplot(xx,yy,ufree,vfree)\n",
        "# A good alternative is plt.quiver: https://www.geeksforgeeks.org/quiver-plot-in-matplotlib/\n",
        "# p = plt.quiver(xx,yy,ufree,vfree)\n",
        "\n",
        "#For contour plots, try plt.contourf: https://www.geeksforgeeks.org/matplotlib-pyplot-contourf-in-python/\n",
        "# Only plot one at a time!\n",
        "p = plt.contourf(xx,yy,phi_free) #contours of the velocity potential\n",
        "#p = plt.contourf(xx,yy,psi_free) #contours of the streamfunction\n",
        "\n",
        "\n"
      ],
      "execution_count": null,
      "outputs": []
    },
    {
      "cell_type": "markdown",
      "metadata": {
        "id": "CKRobiF4SF8n"
      },
      "source": [
        "#1b. Point source"
      ]
    },
    {
      "cell_type": "code",
      "metadata": {
        "id": "AgSksEthSHyt"
      },
      "source": [
        "# Velocity field for point source\n",
        "def vel_source(xx,yy,Q0,xloc,yloc):\n",
        "    x2y2 = (xx - xloc)**2 + (yy - yloc)**2\n",
        "    u = Q0 / (2 * np.pi)*(xx - xloc) / x2y2\n",
        "    v = Q0 / (2 * np.pi)*(yy - yloc) / x2y2\n",
        "    return u,v\n",
        "\n",
        "# Potential for point source\n",
        "def phi_source(xx,yy,Q0,xloc,yloc):\n",
        "    phi = Q0 / (2*np.pi) * np.log((xx-xloc)**2 + (yy - yloc)**2)\n",
        "    return phi\n",
        "\n",
        "# Stream function for point source\n",
        "def psi_source(xx,yy,Q0,xloc,yloc):\n",
        "    psi = Q0 / (2*np.pi)*np.arctan2((yy - yloc), (xx - xloc))\n",
        "    return psi"
      ],
      "execution_count": null,
      "outputs": []
    },
    {
      "cell_type": "code",
      "metadata": {
        "id": "i_Xuyv8CAiaM"
      },
      "source": [
        "# Plot a point source\n",
        "fig = plt.figure(figsize=(size,size))\n",
        "plt.axis('equal')\n",
        "plt.title('Point source')\n",
        "\n",
        "Q0 = 1.0\n",
        "xloc = xmax/3\n",
        "yloc = ymax/2\n",
        "\n",
        "# Use functions defined above to calculate variables in suitable format for plotting\n",
        "usrc,vsrc = vel_source(xx,yy,Q0,xloc,yloc)\n",
        "phi_sourceplot = phi_source(xx,yy,Q0,xloc,yloc)\n",
        "psi_sourceplot = psi_source(xx,yy,Q0,xloc,yloc)\n",
        "\n",
        "# Plot velocity vectors\n",
        "p = plt.streamplot(xx,yy,usrc,vsrc)\n",
        "#p = plt.quiver(xx,yy,usrc,vsrc)\n",
        "\n",
        "# Contour plots: Try \"coutour\" with lines, rather than \"counterf\" for color filled.\n",
        "p = plt.contour(xx,yy,phi_sourceplot,colors='red') #contours of the velocity potential\n",
        "#p = plt.contour(xx,yy,psi_sourceplot) #contours of the streamfunction"
      ],
      "execution_count": null,
      "outputs": []
    },
    {
      "cell_type": "markdown",
      "source": [
        "##Doublet"
      ],
      "metadata": {
        "id": "EueCIyZm7P47"
      }
    },
    {
      "cell_type": "code",
      "source": [
        "# velocity field for doublet: might be handy!\n",
        "def vel_doublet(xx,yy,Q0,xloc,yloc):\n",
        "    x2y2sq = ((xx - xloc)**2 + (yy - yloc)**2)**2\n",
        "    u = -Q0/(2*np.pi) *((xx - xloc)**2 - (yy - yloc)**2) / x2y2sq\n",
        "    v = -Q0/(2*np.pi)*2*(xx - xloc)*(yy - yloc) /x2y2sq\n",
        "    return u,v"
      ],
      "metadata": {
        "id": "COVJSjRH7OoK"
      },
      "execution_count": null,
      "outputs": []
    },
    {
      "cell_type": "markdown",
      "metadata": {
        "id": "zIDMKD5ET-gX"
      },
      "source": [
        "# 1c. Vortex\n",
        "\n",
        "Notice one can engage in trickery here: use the source equations but switch around for $(u,v) = (u,-v)$, and similarly for the stream function and velocity potential."
      ]
    },
    {
      "cell_type": "code",
      "metadata": {
        "id": "Wtl34k8ZUCIm"
      },
      "source": [
        "# Velocity field for a vortex\n",
        "def vel_vortex(xx,yy,C0,xloc,yloc):\n",
        "    v, u = vel_source(xx,yy,C0,xloc,yloc)\n",
        "    u = -u\n",
        "    return u,v\n",
        "\n",
        "# Potential for a vortex\n",
        "def psi_vortex(xx,yy,C0,xloc,yloc):\n",
        "    return phi_source(xx,yy,C0,xloc,yloc)\n",
        "\n",
        "# Stream function for a vortex\n",
        "def phi_vortex(xx,yy,C0,xloc,yloc):\n",
        "    return psi_source(xx,yy,C0,xloc,yloc)"
      ],
      "execution_count": null,
      "outputs": []
    },
    {
      "cell_type": "code",
      "metadata": {
        "id": "WWpCuaz0AmFi"
      },
      "source": [
        "# Plots for a free vortex\n",
        "fig = plt.figure(figsize=(size,size))\n",
        "plt.axis('equal')\n",
        "plt.title('Free vortex')\n",
        "\n",
        "C0 = -1.0 # circulation\n",
        "\n",
        "# Use functions defined above to calculate variables in suitable format for plotting\n",
        "uvor,vvor = vel_vortex(xx,yy,C0,xloc,yloc)\n",
        "phi_vortexplot = phi_vortex(xx,yy,Q0,xloc,yloc)\n",
        "psi_vortexplot = psi_vortex(xx,yy,Q0,xloc,yloc)\n",
        "\n",
        "# Plot velocity vectors\n",
        "p = plt.streamplot(xx,yy,uvor,vvor)\n",
        "#p = plt.quiver(xx,yy,uvor,vvor)\n",
        "\n",
        "# Contour plots\n",
        "p = plt.contour(xx,yy,phi_vortexplot,colors='red') #contours of the velocity potential\n",
        "#p = plt.contourf(xx,yy,psi_vortexplot) #contours of the streamfunction"
      ],
      "execution_count": null,
      "outputs": []
    },
    {
      "cell_type": "markdown",
      "source": [
        "## 2. Freestream plus a source"
      ],
      "metadata": {
        "id": "BoPgCUumqNER"
      }
    },
    {
      "cell_type": "markdown",
      "source": [
        "## 3. Freestream plus a vortex.\n"
      ],
      "metadata": {
        "id": "hBCqwxmOuBEk"
      }
    },
    {
      "cell_type": "markdown",
      "metadata": {
        "id": "NoGTT_pb6MlF"
      },
      "source": [
        "## 4. Source near a sink"
      ]
    },
    {
      "cell_type": "code",
      "metadata": {
        "id": "JYu1Qmzd6MSP"
      },
      "source": [
        "fig = plt.figure(figsize=(size,size))\n",
        "plt.axis('equal')\n",
        "plt.title('Free vortex')\n",
        "\n",
        "# Position of the sink\n",
        "xsnk = xmax/3 + 0.5*xmax\n",
        "ysnk = ymax/2\n",
        "\n",
        "# Velocity field reverses the sign of the flow\n",
        "usnk,vsnk = vel_source(xx,yy,-Q0,xsnk,ysnk)\n",
        "\n",
        "# Calculate total velocity, potential, and streamfunction\n",
        "upair = usrc + usnk\n",
        "vpair = vsrc + vsnk\n",
        "phi_sinkplot = phi_source(xx,yy,-Q0,xsnk,ysnk)\n",
        "psi_sinkplot = psi_source(xx,yy,-Q0,xsnk,ysnk)\n",
        "phi_pair = phi_sourceplot + phi_sinkplot\n",
        "psi_pair = psi_sourceplot + psi_sinkplot\n",
        "\n",
        "\n",
        "# Contour plots\n",
        "#p = plt.contour(xx,yy,phi_pair,colors='red',levels=12) #contours of the velocity potential\n",
        "#p = plt.contourf(xx,yy,psi_pair) #contours of the streamfunction\n",
        "\n",
        "# Plot velocity vectors\n",
        "#p = plt.streamplot(xx,yy,upair,vpair)\n",
        "p = plt.quiver(xx,yy,upair,vpair)\n"
      ],
      "execution_count": null,
      "outputs": []
    },
    {
      "cell_type": "markdown",
      "source": [
        "## 5. A source near another source.\n"
      ],
      "metadata": {
        "id": "lqD7EwP2uUuf"
      }
    },
    {
      "cell_type": "markdown",
      "source": [
        "## 6. A vortex near another vortex.\n"
      ],
      "metadata": {
        "id": "bhkUBcLiuWil"
      }
    },
    {
      "cell_type": "markdown",
      "source": [
        "## 7. A vortex near another vortex of opposite sign."
      ],
      "metadata": {
        "id": "-QMAi-gJuYKk"
      }
    },
    {
      "cell_type": "markdown",
      "source": [
        "#8. Pressure diagnostic: freestream plus doublet\n",
        "\n",
        "Recall from Bernoulli that if we know the velocity, we can compute the pressure as:\n",
        "\n",
        "$$\n",
        "p = p_0 + \\frac{V^2}{2}\n",
        "$$\n",
        "\n",
        "(At constant density, which willassume is $\\rho = 1$).\n",
        "\n",
        "Therefore, in addition to the velocity profile, we can examine pressure variations within the flow.\n"
      ],
      "metadata": {
        "id": "uW_mMVcs6m_z"
      }
    },
    {
      "cell_type": "code",
      "source": [
        "def calc_pressure(p0,u,v):\n",
        "  pres = p0 + 0.5*(u*u + v*v)\n",
        "  return pres\n",
        "\n",
        "def calc_pressure_coef(u0,u,v):\n",
        "  cp = 1.0 + 0.5*(u*u + v*v)/(u0**2)\n",
        "  return cp"
      ],
      "metadata": {
        "id": "Pn52EV5p6mKj"
      },
      "execution_count": null,
      "outputs": []
    },
    {
      "cell_type": "code",
      "source": [
        "# Example: Freestream plus source, with pressure\n",
        "#fig = plt.figure(figsize=(size,size))\n",
        "#plt.axis('equal')\n",
        "#plt.title('Freestream and source')\n",
        "#uall = ufree + usrc\n",
        "#vall = vfree + vsrc\n",
        "\n",
        "#\n",
        "# Example plotting.\n",
        "#\n",
        "#pressure = calc_pressure(0., uall, vall)\n",
        "#p = plt.contourf(xx,yy,np.log(pressure),cmap=\"RdBu\")\n",
        "#plt.colorbar(p)\n",
        "#p = plt.streamplot(xx,yy,uall,vall)\n",
        "\n",
        "\n",
        "#\n",
        "# Your code with DOUBLET here.\n",
        "#\n"
      ],
      "metadata": {
        "id": "6r18EwFp614T"
      },
      "execution_count": null,
      "outputs": []
    },
    {
      "cell_type": "markdown",
      "source": [
        "Created by Prof. David Noone\n",
        "\n",
        "2024 version, contact: Geoff Willmott (g.willmott@auckland@auckland.ac.nz)"
      ],
      "metadata": {
        "id": "fHxGGdSV1HmN"
      }
    }
  ]
}