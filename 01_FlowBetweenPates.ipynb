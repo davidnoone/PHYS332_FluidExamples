{
  "nbformat": 4,
  "nbformat_minor": 0,
  "metadata": {
    "colab": {
      "name": "01_FlowBetweenPates.ipynb",
      "provenance": [],
      "authorship_tag": "ABX9TyMK2aLE6J3tYm7UteYwFGcq",
      "include_colab_link": true
    },
    "kernelspec": {
      "name": "python3",
      "display_name": "Python 3"
    }
  },
  "cells": [
    {
      "cell_type": "markdown",
      "metadata": {
        "id": "view-in-github",
        "colab_type": "text"
      },
      "source": [
        "<a href=\"https://colab.research.google.com/github/davidnoone/PHYS332_FluidExamples/blob/main/01_FlowBetweenPates.ipynb\" target=\"_parent\"><img src=\"https://colab.research.google.com/assets/colab-badge.svg\" alt=\"Open In Colab\"/></a>"
      ]
    },
    {
      "cell_type": "markdown",
      "metadata": {
        "id": "mw0mwCKSDe2J"
      },
      "source": [
        "# Flow between plates"
      ]
    },
    {
      "cell_type": "code",
      "metadata": {
        "id": "dXVvL4jKDb7w"
      },
      "source": [
        "#\r\n",
        "import numpy as np\r\n",
        "import matplotlib.pyplot as plt\r\n",
        "\r\n",
        "npts = 101\r\n",
        "distance = 1\r\n",
        "length = 1\r\n"
      ],
      "execution_count": null,
      "outputs": []
    }
  ]
}