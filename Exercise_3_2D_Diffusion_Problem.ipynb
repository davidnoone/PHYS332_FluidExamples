{
  "nbformat": 4,
  "nbformat_minor": 0,
  "metadata": {
    "colab": {
      "name": "Exercise 3_2D Diffusion Problem.ipynb",
      "provenance": [],
      "collapsed_sections": [],
      "include_colab_link": true
    },
    "kernelspec": {
      "name": "python3",
      "display_name": "Python 3"
    }
  },
  "cells": [
    {
      "cell_type": "markdown",
      "metadata": {
        "id": "view-in-github",
        "colab_type": "text"
      },
      "source": [
        "<a href=\"https://colab.research.google.com/github/davidnoone/PHYS332_FluidExamples/blob/main/Exercise_3_2D_Diffusion_Problem.ipynb\" target=\"_parent\"><img src=\"https://colab.research.google.com/assets/colab-badge.svg\" alt=\"Open In Colab\"/></a>"
      ]
    },
    {
      "cell_type": "markdown",
      "metadata": {
        "id": "mw0mwCKSDe2J"
      },
      "source": [
        "# Solving the diffusion equation in 2D using a finite difference method\n",
        "\n",
        "For this exercise, first look at the textbook example of 2D diffusion in python here: https://scipython.com/book/chapter-7-matplotlib/examples/the-two-dimensional-diffusion-equation/\n",
        "\n",
        "\n",
        "In particular, read the first part describing the first three equations, and how the state of the system at time step $n+1$ may be calculated from its state at time step $n$.\n",
        "\n",
        "In this exercise, consider a square puddle with side lengths of 10 cm which is shallow so that this is a 2D problem. Some contamination - an ionic species of diffusion coefficient $D = 2$ x $10^3\\mu$m$^2$ s$^{-1}$ - is dropped into the pool. At time $t=0$ s it has a concentration of 1 mol L$^{-1}$ within a circle of radius $r=10$ mm at the centre of the pool. \n",
        "\n",
        "In the first block of code, we set up the constants, variables and initial conditions for this problem.\n",
        "\n",
        "\n"
      ]
    },
    {
      "cell_type": "code",
      "source": [
        "import numpy as np\n",
        "import matplotlib.pyplot as plt\n",
        "\n",
        "# puddle size in m\n",
        "# width\n",
        "w = 0.1\n",
        "#height\n",
        "h = 0.1\n",
        "\n",
        "# length of spatial intervals in x-, y- directions in m\n",
        "dx = dy = 0.001\n",
        "# number of spatial intervals in each direction\n",
        "nx, ny = int(w/dx), int(h/dy)\n",
        "\n",
        "# Diffusion coefficient for the contaminant, m2.s-1\n",
        "D = 2e-9\n",
        "\n",
        "# Initial concentration of the contaminant in mol L-1\n",
        "C_init = 1\n",
        "\n",
        "# Define an initial matrix in which there is no contamination, and a copy of that matrix\n",
        "c0 = np.zeros((nx, ny))\n",
        "c = c0.copy()\n",
        "\n",
        "# Initial conditions occur within a circle of radius r centred at (cx,cy) (in m)\n",
        "r, cx, cy = 0.01, 0.05, 0.05\n",
        "r2 = r**2\n",
        "for i in range(nx):\n",
        "    for j in range(ny):\n",
        "        p2 = (i*dx-cx)**2 + (j*dy-cy)**2\n",
        "        if p2 < r2:\n",
        "            c0[i,j] = C_init\n",
        "\n",
        "# Define shorthand variables for dx*dx and dy*dy\n",
        "dx2, dy2 = dx*dx, dy*dy\n",
        "\n",
        "# Define the scaling of dt using the scaling of dx, dy and D; based on the convection-diffusion equation in the infinitessimal limit.\n",
        "dt = dx2 * dy2 / (2 * D * (dx2 + dy2))\n",
        "\n",
        "# Number of timesteps for the simulation\n",
        "nsteps = 101"
      ],
      "metadata": {
        "id": "oxp0_x8RaKVS"
      },
      "execution_count": null,
      "outputs": []
    },
    {
      "cell_type": "markdown",
      "source": [
        "In a second block of code, a function is defined for calculating the diffusion, using the third equation on the link given above."
      ],
      "metadata": {
        "id": "ThqzaqnRZ_T4"
      }
    },
    {
      "cell_type": "code",
      "metadata": {
        "id": "dXVvL4jKDb7w"
      },
      "source": [
        "\n",
        "# Do the calculation with forward-difference in time, central-difference in space\n",
        "\n",
        "# Notes on syntax for vectors here:\n",
        "# vec[a:b] means the elements from a to b of the vector vec\n",
        "# vec[:] means all the elements\n",
        "# vec[a:] means from element a to the final element\n",
        "# vec[a:-1] means from element a to the end of the vector, except the last element\n",
        "# So here c[1:-1, 1:-1] means from the second element (the first one has index zero) to the second to last element for both x and y\n",
        "# We don't include all the elements because those on the edge cannot use the central-difference formulation (there is no element next to them)\n",
        "# This is equivalent to having a boundary condition of zero concentration along the edge\n",
        "\n",
        "def do_timestep(c0, c):\n",
        "    c[1:-1, 1:-1] = c0[1:-1, 1:-1] + D * dt * (\n",
        "          (c0[2:, 1:-1] - 2*c0[1:-1, 1:-1] + c0[:-2, 1:-1])/dx2\n",
        "          + ... )\n",
        "\n",
        "    c0 = c.copy()\n",
        "    return c0, c\n",
        "\n",
        "\n"
      ],
      "execution_count": null,
      "outputs": []
    },
    {
      "cell_type": "markdown",
      "source": [
        "In the third block, the calculations are carried out and four plots are produced."
      ],
      "metadata": {
        "id": "uEgUZDuyHd60"
      }
    },
    {
      "cell_type": "code",
      "source": [
        "# Output 4 figures at these timesteps\n",
        "mfig = [0, 25, 50, 100]\n",
        "\n",
        "# This variable counts the figures generates\n",
        "fignum = 0\n",
        "\n",
        "# This creates a figure\n",
        "fig = plt.figure()\n",
        "\n",
        "# This uses the function defined in block 2 to calculate through the timesteps\n",
        "for m in range(nsteps):\n",
        "    c0, c = do_timestep(c0, c)\n",
        "\n",
        "    # This code creates and formats a figure if the step number is one of those specified above\n",
        "    if m in mfig:\n",
        "        fignum += 1\n",
        "        ax = fig.add_subplot(220 + fignum)\n",
        "        im = ax.imshow(c.copy(), cmap=plt.get_cmap('hot'), vmin=0,vmax=C_init)\n",
        "        ax.set_axis_off()\n",
        "        ax.set_title('{:.1f} min'.format(m*dt/60))\n",
        "\n",
        "# This code formats and shows the subfigures together\n",
        "fig.subplots_adjust(right=0.85)\n",
        "cbar_ax = fig.add_axes([0.9, 0.15, 0.03, 0.7])\n",
        "cbar_ax.set_xlabel('$C$ / mol L$^{-1}$', labelpad=20)\n",
        "fig.colorbar(im, cax=cbar_ax)\n",
        "plt.show()\n"
      ],
      "metadata": {
        "colab": {
          "base_uri": "https://localhost:8080/",
          "height": 398
        },
        "id": "Xnhg96QVHnWg",
        "outputId": "5fd493d3-98dc-4edf-e9d7-e80d2e3f4f05"
      },
      "execution_count": null,
      "outputs": [
        {
          "output_type": "error",
          "ename": "TypeError",
          "evalue": "ignored",
          "traceback": [
            "\u001b[0;31m---------------------------------------------------------------------------\u001b[0m",
            "\u001b[0;31mTypeError\u001b[0m                                 Traceback (most recent call last)",
            "\u001b[0;32m<ipython-input-3-b24622533a2c>\u001b[0m in \u001b[0;36m<module>\u001b[0;34m()\u001b[0m\n\u001b[1;32m     10\u001b[0m \u001b[0;31m# This uses the function defined in block 2 to calculate through the timesteps\u001b[0m\u001b[0;34m\u001b[0m\u001b[0;34m\u001b[0m\u001b[0;34m\u001b[0m\u001b[0m\n\u001b[1;32m     11\u001b[0m \u001b[0;32mfor\u001b[0m \u001b[0mm\u001b[0m \u001b[0;32min\u001b[0m \u001b[0mrange\u001b[0m\u001b[0;34m(\u001b[0m\u001b[0mnsteps\u001b[0m\u001b[0;34m)\u001b[0m\u001b[0;34m:\u001b[0m\u001b[0;34m\u001b[0m\u001b[0;34m\u001b[0m\u001b[0m\n\u001b[0;32m---> 12\u001b[0;31m     \u001b[0mc0\u001b[0m\u001b[0;34m,\u001b[0m \u001b[0mc\u001b[0m \u001b[0;34m=\u001b[0m \u001b[0mdo_timestep\u001b[0m\u001b[0;34m(\u001b[0m\u001b[0mc0\u001b[0m\u001b[0;34m,\u001b[0m \u001b[0mc\u001b[0m\u001b[0;34m)\u001b[0m\u001b[0;34m\u001b[0m\u001b[0;34m\u001b[0m\u001b[0m\n\u001b[0m\u001b[1;32m     13\u001b[0m \u001b[0;34m\u001b[0m\u001b[0m\n\u001b[1;32m     14\u001b[0m     \u001b[0;31m# This code creates and formats a figure if the step number is one of those specified above\u001b[0m\u001b[0;34m\u001b[0m\u001b[0;34m\u001b[0m\u001b[0;34m\u001b[0m\u001b[0m\n",
            "\u001b[0;32m<ipython-input-2-c2bc04b5b577>\u001b[0m in \u001b[0;36mdo_timestep\u001b[0;34m(c0, c)\u001b[0m\n\u001b[1;32m     14\u001b[0m     c[1:-1, 1:-1] = c0[1:-1, 1:-1] + D * dt * (\n\u001b[1;32m     15\u001b[0m           \u001b[0;34m(\u001b[0m\u001b[0mc0\u001b[0m\u001b[0;34m[\u001b[0m\u001b[0;36m2\u001b[0m\u001b[0;34m:\u001b[0m\u001b[0;34m,\u001b[0m \u001b[0;36m1\u001b[0m\u001b[0;34m:\u001b[0m\u001b[0;34m-\u001b[0m\u001b[0;36m1\u001b[0m\u001b[0;34m]\u001b[0m \u001b[0;34m-\u001b[0m \u001b[0;36m2\u001b[0m\u001b[0;34m*\u001b[0m\u001b[0mc0\u001b[0m\u001b[0;34m[\u001b[0m\u001b[0;36m1\u001b[0m\u001b[0;34m:\u001b[0m\u001b[0;34m-\u001b[0m\u001b[0;36m1\u001b[0m\u001b[0;34m,\u001b[0m \u001b[0;36m1\u001b[0m\u001b[0;34m:\u001b[0m\u001b[0;34m-\u001b[0m\u001b[0;36m1\u001b[0m\u001b[0;34m]\u001b[0m \u001b[0;34m+\u001b[0m \u001b[0mc0\u001b[0m\u001b[0;34m[\u001b[0m\u001b[0;34m:\u001b[0m\u001b[0;34m-\u001b[0m\u001b[0;36m2\u001b[0m\u001b[0;34m,\u001b[0m \u001b[0;36m1\u001b[0m\u001b[0;34m:\u001b[0m\u001b[0;34m-\u001b[0m\u001b[0;36m1\u001b[0m\u001b[0;34m]\u001b[0m\u001b[0;34m)\u001b[0m\u001b[0;34m/\u001b[0m\u001b[0mdx2\u001b[0m\u001b[0;34m\u001b[0m\u001b[0;34m\u001b[0m\u001b[0m\n\u001b[0;32m---> 16\u001b[0;31m           + ... )\n\u001b[0m\u001b[1;32m     17\u001b[0m \u001b[0;34m\u001b[0m\u001b[0m\n\u001b[1;32m     18\u001b[0m     \u001b[0mc0\u001b[0m \u001b[0;34m=\u001b[0m \u001b[0mc\u001b[0m\u001b[0;34m.\u001b[0m\u001b[0mcopy\u001b[0m\u001b[0;34m(\u001b[0m\u001b[0;34m)\u001b[0m\u001b[0;34m\u001b[0m\u001b[0;34m\u001b[0m\u001b[0m\n",
            "\u001b[0;31mTypeError\u001b[0m: unsupported operand type(s) for +: 'float' and 'ellipsis'"
          ]
        },
        {
          "output_type": "display_data",
          "data": {
            "text/plain": [
              "<Figure size 432x288 with 0 Axes>"
            ]
          },
          "metadata": {}
        }
      ]
    },
    {
      "cell_type": "markdown",
      "metadata": {
        "id": "2G52XTW8EvcT"
      },
      "source": [
        "# Exercises to complete\n",
        "\n",
        "**To hand in by 5 pm on Friday 1 April** via email to g.willmott@auckland.ac.nz.\n",
        "\n",
        "When generating your data, remember to run blocks 1, 2 and 3 in turn or else python may use old variables stored in memory for the calculation.\n",
        "\n",
        "1.   Complete the code in block 2 where \"...\" appears.\n",
        "2.   Perform a calculation for each of the following cases. For each, send a screenshot of your 4 plots and give the final concentration in mol L$^{-1}$ at $\\left(x, y\\right)=\\left(2.5, 2.5\\right)$ and $\\left(5.0, 5.0\\right)$ cm (or a grid point close to these positions).\n",
        "\n",
        "\n",
        "\n",
        "> *   Use spatial intervals $dx$ and $dy$ of 10, 1, and 0.1 mm (then use 1 mm for subsequent calculations).\n",
        "*   Put the initial circle at some off-centre position.\n",
        "*   (Bonus - not compulsory) Use a square of side length 20 mm for the initial area of contamination.\n",
        "\n",
        "\n",
        "\n",
        "*Contact: Geoff Willmott (g.willmott@auckland@auckland.ac.nz)*\n",
        "\n",
        "\n",
        "\n",
        "\n"
      ]
    }
  ]
}