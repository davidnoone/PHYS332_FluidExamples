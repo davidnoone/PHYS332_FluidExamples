#
# A note book illustrating numerical methods for diffusion
#
import numpy
