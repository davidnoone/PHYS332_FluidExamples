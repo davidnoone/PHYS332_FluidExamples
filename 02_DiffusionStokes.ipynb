{
  "nbformat": 4,
  "nbformat_minor": 0,
  "metadata": {
    "colab": {
      "name": "03_DiffusionStokes.ipynb",
      "provenance": [],
      "include_colab_link": true
    },
    "kernelspec": {
      "name": "python3",
      "display_name": "Python 3"
    }
  },
  "cells": [
    {
      "cell_type": "markdown",
      "metadata": {
        "id": "view-in-github",
        "colab_type": "text"
      },
      "source": [
        "<a href=\"https://colab.research.google.com/github/davidnoone/PHYS332_FluidExamples/blob/main/02_DiffusionStokes.ipynb\" target=\"_parent\"><img src=\"https://colab.research.google.com/assets/colab-badge.svg\" alt=\"Open In Colab\"/></a>"
      ]
    },
    {
      "cell_type": "markdown",
      "metadata": {
        "id": "VIna7GyzlIZZ"
      },
      "source": [
        "# Diffusion and the Stokes equation\r\n",
        "\r\n",
        "*Learning goals*:\r\n",
        "* Time dependent flow\r\n",
        "* Develop method for numerically solving diffusion equation\r\n",
        "* Use of forward (Euler) time stepping\r\n",
        "* Relaxation methods \r\n",
        " "
      ]
    },
    {
      "cell_type": "code",
      "metadata": {
        "id": "Trf4zuPUlFpU"
      },
      "source": [
        "import numpy\r\n",
        "import matplotlib.pyplot as plt\r\n"
      ],
      "execution_count": null,
      "outputs": []
    }
  ]
}