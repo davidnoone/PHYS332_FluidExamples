{
  "nbformat": 4,
  "nbformat_minor": 0,
  "metadata": {
    "colab": {
      "name": "05_ElementryFlows.ipynb",
      "provenance": [],
      "collapsed_sections": [
        "IBCJQwhG9tVa",
        "tP3MQ1qhQErX"
      ],
      "authorship_tag": "ABX9TyPofETyigTY1YFCv4ppkwBh",
      "include_colab_link": true
    },
    "kernelspec": {
      "name": "python3",
      "display_name": "Python 3"
    },
    "language_info": {
      "name": "python"
    }
  },
  "cells": [
    {
      "cell_type": "markdown",
      "metadata": {
        "id": "view-in-github",
        "colab_type": "text"
      },
      "source": [
        "<a href=\"https://colab.research.google.com/github/davidnoone/PHYS332_FluidExamples/blob/main/05_ElementryFlows.ipynb\" target=\"_parent\"><img src=\"https://colab.research.google.com/assets/colab-badge.svg\" alt=\"Open In Colab\"/></a>"
      ]
    },
    {
      "cell_type": "markdown",
      "metadata": {
        "id": "IBCJQwhG9tVa"
      },
      "source": [
        "##Elementry flows\n",
        "\n",
        "For steady, invicid, incompressible flow, it can be shown that several elemntry flows can be defined in terms of the velocity potential, $\\phi$. For these type of potential flow, the stream function $\\psi$ is orthogonal and equally useful for defining the flow. \n",
        "\n",
        "One advantage of these tramework is that solutions are linear, in wuich case elementry flows can be added together to get more complex cases. \n",
        "\n",
        "\n",
        "**Uniform flow**: constant velocity at some particular angle.\n",
        "\n",
        "$$\n",
        "    u = U_0 cos(\\alpha)\n",
        "$$\n",
        "\n",
        "$$\n",
        "    v = U_0 sin(\\alpha)\n",
        "$$\n",
        "\n",
        "\n",
        "**Point source**: One can imagine a manhole cover as a concept for a point source. We define the mass flux as Q, which must be constant outward along a radial line. In polar coordinates, $u_\\theta = 0$, and\n",
        "\n",
        "$$\n",
        "u_r = \\frac{Q}{2 \\pi} \\frac{1}{r}\n",
        "$$\n",
        "\n",
        "\n",
        "**Free vortex.**: While vorticity is a measure of local rotation, it descrives both curvature and shear. If these two cancel one can have a free vortext describing circular motion with circulation $\\Gamma$. The radial velocity is $u_r=0$, and the aizmuthal velocity is\n",
        "\n",
        "$$\n",
        "u_\\theta = \\frac{\\Gamma}{2 \\pi} \\frac{1}{r}\n",
        "$$\n",
        "\n",
        "\n",
        "In each of these cases, one can express the streamfunction and velocity potential via the normal gradient relationships rither in polar or cartesian coordinates. \n",
        "\n",
        "Here, we wish to show graphs on an x-y plane, and so cartesian coordinats are preferred. \n",
        "\n",
        "\n",
        "## Task\n",
        "\n",
        "1. Plot examples of each type of flow. Innclude velocity vectors and contours for stream function and vlocity potential.\n",
        "\n",
        "Try combinations. \n",
        "2. Freestream plus a source. \n",
        "3. Freestream plus a vortex\n",
        "4. Source near a sink (negative source)\n",
        "5. A source near another source.\n",
        "6. A vortex near another vortex.\n",
        "6. A vortex near another vortex of opposite sign."
      ]
    },
    {
      "cell_type": "code",
      "metadata": {
        "id": "_2CyXDqn9qpV"
      },
      "source": [
        "## from matplotlib import rc\n",
        "import numpy as np\n",
        "import matplotlib\n",
        "import matplotlib.pyplot as plt\n",
        "from matplotlib import animation\n",
        "rc('animation', html='jshtml')\n",
        "\n",
        "print(\"Imported all the modules\")"
      ],
      "execution_count": null,
      "outputs": []
    },
    {
      "cell_type": "markdown",
      "metadata": {
        "id": "tP3MQ1qhQErX"
      },
      "source": [
        "##Freestream"
      ]
    },
    {
      "cell_type": "code",
      "metadata": {
        "id": "tQ2HlXPB_kKL"
      },
      "source": [
        "# Freestream velocities (constant!)\n",
        "def vel_freestream(xx,yy,U0,alpha):\n",
        "    u = U0*np.cos(alpha)*np.ones_like(xx)\n",
        "    v = U0*np.sin(alpha)*np.ones_like(xx)\n",
        "    return u, v\n",
        "\n",
        "# Get the velocity potential of the freestream: linear slope\n",
        "def phi_freestream(xx,yy,U0,alpha):\n",
        "    u,v = vel_freestream(xx,yy,U0,alpha)\n",
        "    phi = u*xx + v*yy\n",
        "    return phi\n"
      ],
      "execution_count": null,
      "outputs": []
    },
    {
      "cell_type": "markdown",
      "metadata": {
        "id": "CKRobiF4SF8n"
      },
      "source": [
        "#Point source"
      ]
    },
    {
      "cell_type": "code",
      "metadata": {
        "id": "AgSksEthSHyt"
      },
      "source": [
        "# velocity field for point source\n",
        "def vel_source(xx,yy,Q0,xloc,yloc):\n",
        "    x2y2 = (xx - xloc)**2 + (yy - yloc)**2\n",
        "    u = Q0 / (2 * np.pi)*(xx - xloc) / x2y2\n",
        "    v = Q0 / (2 * np.pi)*(yy - yloc) / x2y2\n",
        "    return u,v\n",
        "\n",
        "def phi_source(xx,yy,Q0,xloc,yloc):\n",
        "    phi = Q0 / (4*np.pi) * numpy.log((xx-xloc)**2 + (yy - yloc)**2)\n",
        "    return psi\n",
        "\n",
        "def psi_source(xx,yy,Q0,xloc,yloc):\n",
        "    psi = Q0 / (2*math.pi)*numpy.arctan2((xx - xloc), (xx - xloc))\n",
        "    return psi"
      ],
      "execution_count": null,
      "outputs": []
    },
    {
      "cell_type": "markdown",
      "metadata": {
        "id": "DpIJ9ZJKYmSg"
      },
      "source": [
        "##Doublet\n"
      ]
    },
    {
      "cell_type": "code",
      "metadata": {
        "id": "Gr_kC-UPYpqI"
      },
      "source": [
        "# velocity field for doublet\n",
        "def vel_doublet(xx,yy,Q0,xloc,yloc):\n",
        "    x2y2sq = ((xx - xloc)**2 + (yy - yloc)**2)**2\n",
        "    u = -Q0/(2*np.pi) *((xx - xloc)**2 - (yy - yloc)**2) / x2y2sq\n",
        "    v = -Q0/(2*np.pi)*2*(xx - xloc)*(yy - yloc) /x2y2sq\n",
        "    return u,v"
      ],
      "execution_count": null,
      "outputs": []
    },
    {
      "cell_type": "markdown",
      "metadata": {
        "id": "zIDMKD5ET-gX"
      },
      "source": [
        "# Vortex\n",
        "\n",
        "Notice one can engage in trickry here: use the source equations but switch around for (u,v) = (u,-v)!, and Similarly for streamfunction and velocity potential."
      ]
    },
    {
      "cell_type": "code",
      "metadata": {
        "id": "Wtl34k8ZUCIm"
      },
      "source": [
        "def vel_vortex(xx,yy,C0,xloc,yloc):\n",
        "    v, u = vel_source(xx,yy,C0,xloc,yloc)\n",
        "    u = -u\n",
        "    return u,v\n",
        "\n",
        "def psi_vortex(xx,yy,C0,xloc,yloc):\n",
        "    return phi_source(xx,yy,C0,xloc,yloc)\n",
        "\n",
        "def phi_vortex(xx,yy,C0,xloc,yloc):\n",
        "    return psi_source(xx,yy,C0,xloc,yloc)"
      ],
      "execution_count": null,
      "outputs": []
    },
    {
      "cell_type": "code",
      "metadata": {
        "id": "ONWA1mZeWiYT"
      },
      "source": [
        "def calc_pressure(p0,u,v):\n",
        "  pres = p0 + 0.5*(u*u + v*v)\n",
        "  return pres "
      ],
      "execution_count": null,
      "outputs": []
    },
    {
      "cell_type": "markdown",
      "metadata": {
        "id": "vBekgqfMSIUV"
      },
      "source": [
        "# Plotting some functions\n",
        "\n",
        "Here we set up a simple domain with X and Y coordinates, then plot a variety of cases. "
      ]
    },
    {
      "cell_type": "code",
      "metadata": {
        "id": "JlcbW3rr_nIL"
      },
      "source": [
        "# Set an a \"grid for plotting\"\n",
        "xmin = 0.\n",
        "xmax = 5.\n",
        "ymin = 0.\n",
        "ymax = 5.\n",
        "nx = 50\n",
        "ny = 50\n",
        "x = np.linspace(xmin, xmax, nx)\n",
        "y = np.linspace(xmin, xmax, nx)\n",
        "xx, yy = np.meshgrid(x,y)\n",
        "\n",
        "size=8"
      ],
      "execution_count": null,
      "outputs": []
    },
    {
      "cell_type": "code",
      "metadata": {
        "id": "1sbgucNk_4Mg"
      },
      "source": [
        "# Plot a freestream case\n",
        "fig = plt.figure(figsize=(6,6))\n",
        "U0 = 1.\n",
        "alpha = 0 * np.pi/180.\n",
        "\n",
        "ufree,vfree = vel_freestream(xx,yy,U0,alpha)\n",
        "\n",
        "p = plt.streamplot(xx,yy,ufree,vfree)\n"
      ],
      "execution_count": null,
      "outputs": []
    },
    {
      "cell_type": "code",
      "metadata": {
        "id": "i_Xuyv8CAiaM"
      },
      "source": [
        "# Plot a point source\n",
        "fig = plt.figure(figsize=(size,size))\n",
        "\n",
        "Q0 = 1.0\n",
        "xloc = xmax/3\n",
        "yloc = ymax/2\n",
        "\n",
        "usrc,vsrc = vel_source(xx,yy,Q0,xloc,yloc)\n",
        "p = plt.streamplot(xx,yy,usrc,vsrc)"
      ],
      "execution_count": null,
      "outputs": []
    },
    {
      "cell_type": "markdown",
      "metadata": {
        "id": "NoGTT_pb6MlF"
      },
      "source": [
        "## Source sink pair"
      ]
    },
    {
      "cell_type": "code",
      "metadata": {
        "id": "JYu1Qmzd6MSP"
      },
      "source": [
        "# source sink pair\n",
        "xsnk = xmax/3 + 0.5*xmax\n",
        "ysnk = ymax/2\n",
        "\n",
        "usnk,vsnk = vel_source(xx,yy,-Q0,xsnk,ysnk)\n",
        "\n",
        "upair = usrc + usnk\n",
        "vpair = vsrc + vsnk\n",
        "\n",
        "fig = plt.figure(figsize=(size,size))\n",
        "p = plt.streamplot(xx,yy,upair,vpair)\n"
      ],
      "execution_count": null,
      "outputs": []
    },
    {
      "cell_type": "markdown",
      "metadata": {
        "id": "RXydZL2ENP4Q"
      },
      "source": [
        ""
      ]
    },
    {
      "cell_type": "code",
      "metadata": {
        "id": "6ocTutgPZMWn"
      },
      "source": [
        "# Doublet, instread of soure\n",
        "fig = plt.figure(figsize=(size,size))\n",
        "udbl,vdbl = vel_doublet(xx,yy,Q0,xloc,yloc)\n",
        "p = plt.streamplot(xx,yy,udbl,vdbl)\n"
      ],
      "execution_count": null,
      "outputs": []
    },
    {
      "cell_type": "code",
      "metadata": {
        "id": "WWpCuaz0AmFi"
      },
      "source": [
        "# Plot a free vortex source\n",
        "fig = plt.figure(figsize=(size,size))\n",
        "C0 = -1.0\n",
        "uvor,vvor = vel_vortex(xx,yy,C0,xloc,yloc)\n",
        "p = plt.streamplot(xx,yy,uvor,vvor)\n"
      ],
      "execution_count": null,
      "outputs": []
    },
    {
      "cell_type": "markdown",
      "metadata": {
        "id": "AbCCW6f6Pkud"
      },
      "source": [
        "# Some combinations\n",
        "\n",
        "Recall from Bernoulli that if we know the velocity, we can compute the pressure as:\n",
        "\n",
        "$$ \n",
        "p = p_0 + \\frac{V^2}{2}\n",
        "$$\n",
        "\n",
        "(At constant density, which willassume is $\\rho = 1$).\n",
        "\n",
        "Therefore, in addition to the velocity profile, we can examine pressure variations within out flow.\n"
      ]
    },
    {
      "cell_type": "code",
      "metadata": {
        "id": "XDVHA18-PTpf"
      },
      "source": [
        "# Freestream plus source \n",
        "fig = plt.figure(figsize=(size,size))\n",
        "uall = ufree + usrc \n",
        "vall = vfree + vsrc \n",
        "\n",
        "pressure = calc_pressure(0., uall, vall)\n",
        "p = plt.contourf(xx,yy,pressure)\n",
        "p = plt.streamplot(xx,yy,uall,vall)"
      ],
      "execution_count": null,
      "outputs": []
    },
    {
      "cell_type": "code",
      "metadata": {
        "id": "-nwUnqkcaIA8"
      },
      "source": [
        "# Freestream plus doublet plus vortex\n",
        "fig = plt.figure(figsize=(size,size))\n",
        "uall = ufree + udbl + uvor\n",
        "vall = vfree + vdbl + vvor\n",
        "\n",
        "pressure = calc_pressure(0., uall, vall)\n",
        "p = plt.contourf(xx,yy,pressure)\n",
        "p = plt.streamplot(xx,yy,uall,vall)"
      ],
      "execution_count": null,
      "outputs": []
    },
    {
      "cell_type": "code",
      "metadata": {
        "id": "VB1gyu4kA7G4"
      },
      "source": [
        "# Freestream plus source plus vortex\n",
        "fig = plt.figure(figsize=(size,size))\n",
        "uall = ufree + usrc + uvor\n",
        "vall = vfree + vsrc + vvor\n",
        "\n",
        "pressure = calc_pressure(0., uall, vall)\n",
        "p = plt.contourf(xx,yy,pressure)\n",
        "p = plt.streamplot(xx,yy,uall,vall)"
      ],
      "execution_count": null,
      "outputs": []
    },
    {
      "cell_type": "code",
      "metadata": {
        "id": "2T004ACUNWDe"
      },
      "source": [
        "# Double vortex\n",
        "\n",
        "\n",
        "# DOuble opposite sign vortex\n",
        "\n",
        "\n",
        "# Double source"
      ],
      "execution_count": null,
      "outputs": []
    }
  ]
}