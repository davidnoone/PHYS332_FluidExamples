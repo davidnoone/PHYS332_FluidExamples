{
  "nbformat": 4,
  "nbformat_minor": 0,
  "metadata": {
    "colab": {
      "name": "01_FlowBetweenPlates.ipynb",
      "provenance": [],
      "collapsed_sections": [],
      "authorship_tag": "ABX9TyMbgkxy30/HcmZaJfOEqhJu",
      "include_colab_link": true
    },
    "kernelspec": {
      "name": "python3",
      "display_name": "Python 3"
    }
  },
  "cells": [
    {
      "cell_type": "markdown",
      "metadata": {
        "id": "view-in-github",
        "colab_type": "text"
      },
      "source": [
        "<a href=\"https://colab.research.google.com/github/davidnoone/PHYS332_FluidExamples/blob/main/01_FlowBetweenPlates.ipynb\" target=\"_parent\"><img src=\"https://colab.research.google.com/assets/colab-badge.svg\" alt=\"Open In Colab\"/></a>"
      ]
    },
    {
      "cell_type": "markdown",
      "metadata": {
        "id": "mw0mwCKSDe2J"
      },
      "source": [
        "# Flow between plates\r\n",
        "\r\n",
        "Couette flow, resulting from flow between plates\r\n",
        "\r\n",
        "Case 1: Derieve an expression for the velocity profile for flow between 2 plates that are not moving. Consider them to be separated from one another by some distance (\"distance\"), and for the length of the channel to be the \"length\"). We will assugme the pressure graddient is constants \r\n",
        "\r\n",
        "\r\n",
        "```\r\n",
        "    pgrad = (p_out - p_in)/length\r\n",
        "```\r\n",
        "\r\n",
        "\r\n",
        "\r\n",
        "Make a plot showing the velocity profile. "
      ]
    },
    {
      "cell_type": "code",
      "metadata": {
        "id": "dXVvL4jKDb7w"
      },
      "source": [
        "#\r\n",
        "# Plot of the velocity profile u = u(z) for Couette flow\r\n",
        "#\r\n",
        "import numpy as np\r\n",
        "import matplotlib.pyplot as plt\r\n",
        "\r\n",
        "npts = 101\r\n",
        "pgrad = 1\r\n",
        "distance = 1\r\n",
        "length = 1\r\n",
        "\r\n",
        "zpts = np.linspace(0,distance,npts)\r\n",
        "\r\n",
        "# Calculate the veocity profile\r\n",
        "#\r\n",
        "#u_plate[:] = 0\r\n",
        "\r\n",
        "\r\n",
        "\r\n"
      ],
      "execution_count": null,
      "outputs": []
    },
    {
      "cell_type": "markdown",
      "metadata": {
        "id": "2G52XTW8EvcT"
      },
      "source": [
        "# Case 2: Cylindrical coordinates\r\n",
        "\r\n",
        "Reconsider this problem for the case where the flow is in a cylindical pipe. This problem is most naturally considered in polar coordinates. \r\n",
        "\r\n",
        "Make a plot showing the difference in velocity profile for this case, and compared to the case above.\r\n"
      ]
    },
    {
      "cell_type": "code",
      "metadata": {
        "id": "kNCZI04aEvFs"
      },
      "source": [
        "#\r\n",
        "u_pipe[:] = 0.\r\n",
        "\r\n"
      ],
      "execution_count": null,
      "outputs": []
    },
    {
      "cell_type": "markdown",
      "metadata": {
        "id": "2GmSerzyUe3j"
      },
      "source": [
        ""
      ]
    },
    {
      "cell_type": "markdown",
      "metadata": {
        "id": "5x5HkQ5aNOlR"
      },
      "source": [
        "# (Bonus Case: Non-steady flow!)\r\n",
        "\r\n",
        "Above we have considered the case for steady flow (the time derivative was neglected. In general, we may wish to consider the flow profile as it becomes established. \r\n",
        "\r\n",
        "Consider the velocity profile as a function of time and space. i.e., u = u(x,t). initially the fluid is at rest. \r\n",
        "Find a solution to the foce balance as a function of time, and plot the velocity profile for several instances in time so see the flow develop.\r\n",
        "\r\n",
        "[Hint: there is a need to solve a diffusion-like equation here, which has a well known solution, invented by Fourier!]\r\n",
        "\r\n",
        "\r\n",
        "\r\n"
      ]
    }
  ]
}