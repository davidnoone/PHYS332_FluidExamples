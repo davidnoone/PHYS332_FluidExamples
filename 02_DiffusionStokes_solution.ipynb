{
  "nbformat": 4,
  "nbformat_minor": 0,
  "metadata": {
    "colab": {
      "name": "02_DiffusionStokes_solution.ipynb",
      "provenance": [],
      "include_colab_link": true
    },
    "kernelspec": {
      "name": "python3",
      "display_name": "Python 3"
    }
  },
  "cells": [
    {
      "cell_type": "markdown",
      "metadata": {
        "id": "view-in-github",
        "colab_type": "text"
      },
      "source": [
        "<a href=\"https://colab.research.google.com/github/davidnoone/PHYS332_FluidExamples/blob/main/02_DiffusionStokes_solution.ipynb\" target=\"_parent\"><img src=\"https://colab.research.google.com/assets/colab-badge.svg\" alt=\"Open In Colab\"/></a>"
      ]
    },
    {
      "cell_type": "markdown",
      "metadata": {
        "id": "VIna7GyzlIZZ"
      },
      "source": [
        "# Vorticity prediction and velocity (1d case)\r\n",
        "\r\n",
        "(We will work in a cartesian coordinate system, x, y, z, with velocity u, v, w. )\r\n",
        "\r\n",
        "A remarkably elegant version of the Navier-Stokes equations can be derived for an incompressible case.\r\n",
        "\r\n",
        "$$\r\n",
        "   \\dot \\Omega = \\frac{\\eta}{\\rho} \\nabla^2 \\Omega  \r\n",
        "$$\r\n",
        "\r\n",
        "Further, we can make the problem 1 dimensional by integrating over the y and z direction. We will assume the z direction is bounded, and the y direction is infinitely long. Under these conditions, the incompressible condition in 1d means that the velocity u must be constant. For simplicty we will assume it is zero, without loss of generality. The w velocity is similarly zero. The velocity v need not be. These assumtions however, remove the need for non-linar advection, and we can write\r\n",
        "\r\n",
        "$$\r\n",
        "  \\frac{\\partial \\zeta}{\\partial t} = \\frac{\\eta}{\\rho} \\frac{\\partial^2 \\zeta}{\\partial x^2}\r\n",
        "$$\r\n",
        "\r\n",
        "where $\\zeta$ is the vorticity in the direction f the z coordinate.\r\n",
        "\r\n",
        "$$\r\n",
        "\\zeta = \\frac{\\partial v}{\\partial x} - \\frac{\\partial u}{\\partial y}\r\n",
        "$$\r\n",
        "\r\n",
        "\r\n",
        "You have a case in which the initial vorticity is given by the function \r\n",
        "$$\r\n",
        "\\zeta(x,t=0) = A_1 sin(x - c_1) + A_2 sin(2x - c_2)\r\n",
        "$$\r\n",
        "\r\n",
        "With amplitudes $A_1 = 2$ and $A_2 = 1$. \r\n",
        "\r\n",
        "\r\n",
        "\r\n",
        "## Work tasks\r\n",
        "1. Create a graph of vorticity \r\n",
        "2. Create function to approximate second derivative\r\n",
        "3. Create a function to integrate in time\r\n",
        "4. Produce time evolution to test analytic result.\r\n",
        "\r\n",
        "\r\n",
        "*Learning goals*:\r\n",
        "* Finite difference estimates of gradients and second derivatives\r\n",
        "* Develop method for numerically solving diffusion equation\r\n",
        "* Time dependent flow solutions\r\n",
        "* Use of forward (Euler) time stepping\r\n",
        "* Checking numerical and analytic results\r\n",
        "\r\n",
        " "
      ]
    },
    {
      "cell_type": "code",
      "metadata": {
        "id": "Trf4zuPUlFpU"
      },
      "source": [
        "import math\r\n",
        "import numpy as np\r\n",
        "import matplotlib.pyplot as plt\r\n",
        "print('All modules imported, ready to continue!')"
      ],
      "execution_count": null,
      "outputs": []
    },
    {
      "cell_type": "markdown",
      "metadata": {
        "id": "AZTwQzSlHV1M"
      },
      "source": [
        "The main component of this problem is developing an equation to calculate the second derivative. We wish to evaluate the second grid on a discrete grid between 0 and 2$\\pi$, with steps $\\Delta x$ indicated by index $i = 0, N-1$. (Note python has arrays startning at index 0\r\n",
        "\r\n",
        "Using a finite difference method, we can obtain scheme with second order accuracy as:\r\n",
        "\r\n",
        "$$\r\n",
        "\\frac{\\partial^2 f}{\\partial x^2} \\approx\r\n",
        "    \\frac{f_{i+1} - 2 f_{i} + f_{i-1}}{4(\\Delta x)^2}\r\n",
        "$$\r\n",
        "\r\n",
        "Create a function that performs this opperation. Recall we are working with periodic boundary conditions so we may \"wrap arround\" such that $f_{-1} = f_{N-1}$ and $f_{N} = f_{1}$. You may choose to do this with python array indices, or take a look at the numpy finction [numpy.roll()](https://numpy.org/doc/stable/reference/generated/numpy.roll.html).\r\n"
      ]
    },
    {
      "cell_type": "code",
      "metadata": {
        "id": "hiQtCbjHFmEI"
      },
      "source": [
        "# Create a coordinate, which is periodix\r\n",
        "npts = 20 \r\n",
        "xvals = np.linspace(0,2*math.pi,npts)\r\n",
        "dx = 2*math.pi/npts\r\n",
        "\r\n",
        "rho = 1.\r\n",
        "eta = 1.\r\n",
        "\r\n",
        "\r\n",
        "# Define the initial vorticity\r\n",
        "A1 = 1. \r\n",
        "A2 = 2.\r\n",
        "c1 = math.pi*np.random.rand(1)\r\n",
        "c2 = math.pi*np.random.rand(1)\r\n",
        "\r\n",
        "vort = A1*np.sin(xvals - c1) + A2*np.sin(2*xvals - c2) \r\n"
      ],
      "execution_count": null,
      "outputs": []
    },
    {
      "cell_type": "markdown",
      "metadata": {
        "id": "BzvYAUQ9TQtS"
      },
      "source": [
        "Make a plot showing your initial vorticity: vorticity as a function of X"
      ]
    },
    {
      "cell_type": "code",
      "metadata": {
        "id": "gSdpv-BFTOVA"
      },
      "source": [
        "# PLot!\r\n",
        "p = plt.plot(xvals,vort)\r\n",
        "plt.title('Vorticity')\r\n",
        "plt.xlabel('X (radians)')\r\n",
        "plt.ylabel('Vorticity (/s)')"
      ],
      "execution_count": null,
      "outputs": []
    },
    {
      "cell_type": "markdown",
      "metadata": {
        "id": "xsfLMuGGTxUm"
      },
      "source": [
        "We will need a function to compute the second derivative using finite differences. Let's do that here:"
      ]
    },
    {
      "cell_type": "code",
      "metadata": {
        "id": "jXZ-GN9BTrrB"
      },
      "source": [
        "def second_derivative(vort, dx):\r\n",
        "    dfsq = np.zeros_like(vort)\r\n",
        "\r\n",
        "    # This way using indices\r\n",
        "    for i in range(npts):\r\n",
        "      ip = i + 1\r\n",
        "      if ip >= npts:       # special case for wrap around \r\n",
        "          ip = ip - npts\r\n",
        "\r\n",
        "      im = i - 1          # special case for wrap around\r\n",
        "      if im < 0:\r\n",
        "          im = im + npts\r\n",
        "\r\n",
        "      dfsq[i] = 0.25*(vort[ip] - 2*vort[i] + vort[im])/(dx*dx)\r\n",
        "\r\n",
        "\r\n",
        "    return dfsq\r\n",
        "\r\n",
        "# ALTURNATE: This way using \"roll\": same answer but faster and all in one line!\r\n",
        "#def second_derivative(vort, dx):\r\n",
        "#    return 0.25*(np.roll(vort,-1) -2*vort + np.roll(vort,+1))/(dx*dx)"
      ],
      "execution_count": null,
      "outputs": []
    },
    {
      "cell_type": "markdown",
      "metadata": {
        "id": "QhVImBKdGqqj"
      },
      "source": [
        "Let's define a function to perform some number of time steps"
      ]
    },
    {
      "cell_type": "code",
      "metadata": {
        "id": "188xzr6SF26p"
      },
      "source": [
        "def forward_step(vort, nsteps, dtime):\r\n",
        "    for n in range(nsteps):\r\n",
        "        # evaluate the second derivative (your function!)\r\n",
        "        dfsq = second_derivative(vort, dx)\r\n",
        "\r\n",
        "        # formulate the tendency \r\n",
        "        dfdt = (eta/rho)*dfsq \r\n",
        "\r\n",
        "        # step forward\r\n",
        "        vort = vort + dtime*dfdt\r\n",
        "        #vort = dfdt\r\n",
        "    \r\n",
        "    return vort"
      ],
      "execution_count": null,
      "outputs": []
    },
    {
      "cell_type": "markdown",
      "metadata": {
        "id": "p2lMnP81Gv-D"
      },
      "source": [
        "Use your integration function to march forward in time to check the analytic result. Note, the time step must be small enough for a robust solution. It must be:\r\n",
        "\r\n",
        "$$\r\n",
        "\\Delta t \\lt \\frac{(\\Delta x)^2} {4 \\eta}\r\n",
        "$$\r\n",
        "\r\n"
      ]
    },
    {
      "cell_type": "code",
      "metadata": {
        "id": "PHmHaCspGyRC"
      },
      "source": [
        "dt_max = 0.25*dx*dx/eta\r\n",
        "print(\"maximum allowed dtime is \",dt_max,\"  seconds\")\r\n",
        "\r\n",
        "dtime = 0.5*dt_max\r\n",
        "nsteps = 100\r\n",
        "\r\n",
        "# Plot the initial function\r\n",
        "p = plt.plot(xvals,vort)\r\n",
        "\r\n",
        "# step forward by some number of steps, then plot again\r\n",
        "vort = forward_step(vort,nsteps,dtime)\r\n",
        "p = plt.plot(xvals,vort)\r\n",
        "\r\n",
        "# step forward more steps, and plot again\r\n",
        "vort = forward_step(vort,nsteps,dtime)\r\n",
        "p = plt.plot(xvals,vort)\r\n",
        "\r\n",
        "plt.title('Vorticity evolution of sines: nsteps='+str(nsteps))\r\n",
        "plt.xlabel('X (radians)')\r\n",
        "plt.ylabel('Vorticity (/s)')\r\n",
        "\r\n"
      ],
      "execution_count": null,
      "outputs": []
    },
    {
      "cell_type": "markdown",
      "metadata": {
        "id": "qrkX2uHLW5Ve"
      },
      "source": [
        "#Results!\r\n",
        "\r\n",
        "What was the predicted amplitue at this time? (Hint, it may be helpful to make a plot showing the analytic solution)\r\n",
        "\r\n"
      ]
    },
    {
      "cell_type": "markdown",
      "metadata": {
        "id": "GW0oqHkJOb0l"
      },
      "source": [
        "# The general case\r\n",
        "\r\n",
        "In the case above, an analytic solution exists, and we can check out results. Notice that buy design the function as a sum of sine waves could be generalized:\r\n",
        "\r\n",
        "$$\r\n",
        "   \\zeta(x,t=0) = \\sum_{n} A_n sin(x - c_n)\r\n",
        "$$\r\n",
        "\r\n",
        "or more formally, a Fourier series. Since a fourier series can describe any arbitrary function, our method can evaluate any function, not just sines and cosines!\r\n",
        "\r\n",
        "Try your clculation again, but start by defining a random function!\r\n",
        "\r\n",
        "```\r\n",
        "# random numbers!\r\n",
        "vort[] = np.random.rand(npts)\r\n",
        "```\r\n",
        "\r\n",
        "Explain the result in the context of your findings above. Do your conclusions hold up?!\r\n",
        "\r\n",
        "\r\n",
        "\r\n"
      ]
    },
    {
      "cell_type": "code",
      "metadata": {
        "id": "hfuR0sa-rJJq"
      },
      "source": [
        "# Set a bunch of intial random numbers\r\n",
        "vort = A1*2*(np.random.rand(npts)-0.5)\r\n",
        "\r\n",
        "# Plot the initial function\r\n",
        "p = plt.plot(xvals,vort)\r\n",
        "\r\n",
        "# step forward by some number of steps, then plot again\r\n",
        "vort = forward_step(vort,nsteps,dtime)\r\n",
        "p = plt.plot(xvals,vort)\r\n",
        "\r\n",
        "# step forward more steps, and plot again\r\n",
        "vort = forward_step(vort,nsteps,dtime)\r\n",
        "p = plt.plot(xvals,vort)\r\n",
        "\r\n",
        "plt.title('Vorticity evolution from random start: nsteps='+str(nsteps))\r\n",
        "plt.xlabel('X (radians)')\r\n",
        "plt.ylabel('Vorticity (/s)')\r\n",
        "\r\n"
      ],
      "execution_count": null,
      "outputs": []
    },
    {
      "cell_type": "markdown",
      "metadata": {
        "id": "Cxb3zvvXUrVm"
      },
      "source": [
        "## Bonus!\r\n",
        "\r\n",
        "The vorticity is related only to the velocity v. Develop a numerical method to calulate the velocity, v. \r\n",
        "\r\n",
        "*Task*: Create a time series graph of kinetic energy as a function of time. Does the diffusion of vorticity change the kinetic energy?\r\n",
        "\r\n",
        "\r\n",
        "\r\n",
        "\r\n",
        "\r\n",
        "\r\n",
        "\r\n"
      ]
    },
    {
      "cell_type": "code",
      "metadata": {
        "id": "jxS8Sl8fVGG-"
      },
      "source": [
        "#  vort = dv/dx, so integrate dv = vort*dx\r\n",
        "def calc_velocity(vort, dx):\r\n",
        "    # Need one integration constant, the mean velocity.\r\n",
        "    vmean = 0\r\n",
        "\r\n",
        "    # integration gives velocity at i+0.50, so need one extra point\r\n",
        "    vplus = np.zeros(npts+1)\r\n",
        "    for i in range(npts):\r\n",
        "      vplus[i+1] = vplus[i] + dx*vort[i]\r\n",
        "\r\n",
        "    # Assign the velocity at points \"i\" as the mean of those at i-0.5 and i+0.5\r\n",
        "    velocity = 0.5*(vplus[0:npts] + vplus[1:npts+1])\r\n",
        "\r\n",
        "    # Adjust the velocity so it has the required mean\r\n",
        "    velocity = velocity - np.sum(velocity)/npts + vmean\r\n",
        "    return velocity\r\n",
        "\r\n",
        "def kinetic_energy(velocity):\r\n",
        "    ke = rho*np.sum(velocity*velocity)/npts\r\n",
        "    return ke"
      ],
      "execution_count": null,
      "outputs": []
    },
    {
      "cell_type": "code",
      "metadata": {
        "id": "3IqeiggcxB1b"
      },
      "source": [
        "# define a time series \r\n",
        "dtime = 0.5*dt_max\r\n",
        "nsteps = 100\r\n",
        "\r\n",
        "ke = np.zeros(nsteps)\r\n",
        "\r\n",
        "# Start with random numbers\r\n",
        "vort = A1*2*(np.random.rand(npts)-0.5)\r\n",
        "\r\n",
        "for i in range(nsteps):\r\n",
        "    vort = forward_step(vort,1,dtime)\r\n",
        "    velocity = calc_velocity(vort,dx)\r\n",
        "    ke[i] = kinetic_energy(velocity)\r\n",
        "\r\n",
        "time = dtime*np.arange(nsteps)\r\n",
        "p = plt.plot(time,ke)\r\n",
        "plt.title(\"Kinetic energy series from random start\")\r\n",
        "plt.xlabel('time (s)')\r\n",
        "plt.ylabel('K.E. (J/kg)')"
      ],
      "execution_count": null,
      "outputs": []
    }
  ]
}